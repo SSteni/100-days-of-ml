{
 "cells": [
  {
   "cell_type": "markdown",
   "id": "11b72a37",
   "metadata": {},
   "source": [
    "#### Tensors"
   ]
  },
  {
   "cell_type": "code",
   "execution_count": 1,
   "id": "fca6e3de",
   "metadata": {},
   "outputs": [],
   "source": [
    "import torch\n",
    "import numpy as np"
   ]
  },
  {
   "cell_type": "code",
   "execution_count": 2,
   "id": "02d48eda",
   "metadata": {},
   "outputs": [],
   "source": [
    "# Initializing a Tensor\n",
    "\n",
    "# 1. From data\n",
    "\n",
    "data = [[1,2],[3,4]]\n",
    "x_data = torch.tensor(data)"
   ]
  },
  {
   "cell_type": "code",
   "execution_count": 3,
   "id": "b17c02f4",
   "metadata": {},
   "outputs": [
    {
     "data": {
      "text/plain": [
       "tensor([[1, 2],\n",
       "        [3, 4]])"
      ]
     },
     "execution_count": 3,
     "metadata": {},
     "output_type": "execute_result"
    }
   ],
   "source": [
    "x_data"
   ]
  },
  {
   "cell_type": "code",
   "execution_count": 4,
   "id": "d2ea8dde",
   "metadata": {},
   "outputs": [
    {
     "data": {
      "text/plain": [
       "tensor([[1, 2],\n",
       "        [3, 4]])"
      ]
     },
     "execution_count": 4,
     "metadata": {},
     "output_type": "execute_result"
    }
   ],
   "source": [
    "# 2. From numpy array\n",
    "\n",
    "np_array = np.array(data)\n",
    "x_np = torch.from_numpy(np_array)\n",
    "x_data"
   ]
  },
  {
   "cell_type": "code",
   "execution_count": 5,
   "id": "d998a74f",
   "metadata": {},
   "outputs": [
    {
     "name": "stdout",
     "output_type": "stream",
     "text": [
      "Numpy np_array value: \n",
      " [[1 2]\n",
      " [3 4]] \n",
      "\n",
      "Tensor x_np value: \n",
      " tensor([[1, 2],\n",
      "        [3, 4]]) \n",
      "\n",
      "Numpy np_array after * 2 operation: \n",
      " [[2 4]\n",
      " [6 8]] \n",
      "\n",
      "Tensor x_np value after modifying numpy array: \n",
      " tensor([[2, 4],\n",
      "        [6, 8]]) \n",
      "\n"
     ]
    }
   ],
   "source": [
    "print(f\"Numpy np_array value: \\n {np_array} \\n\")\n",
    "print(f\"Tensor x_np value: \\n {x_np} \\n\")\n",
    "\n",
    "np.multiply(np_array, 2, out=np_array)\n",
    "\n",
    "print(f\"Numpy np_array after * 2 operation: \\n {np_array} \\n\")\n",
    "print(f\"Tensor x_np value after modifying numpy array: \\n {x_np} \\n\")"
   ]
  },
  {
   "cell_type": "code",
   "execution_count": 6,
   "id": "11498b27",
   "metadata": {},
   "outputs": [
    {
     "name": "stdout",
     "output_type": "stream",
     "text": [
      "Ones Tensor: \n",
      " tensor([[1, 1],\n",
      "        [1, 1]]) \n",
      "\n",
      "Random Tensor: \n",
      " tensor([[0.0915, 0.9139],\n",
      "        [0.2746, 0.0288]]) \n",
      "\n"
     ]
    }
   ],
   "source": [
    "# 3. From another Tensor\n",
    "\n",
    "x_ones = torch.ones_like(x_data) # retains the properties of x_data\n",
    "print(f\"Ones Tensor: \\n {x_ones} \\n\")\n",
    "\n",
    "x_rand = torch.rand_like(x_data, dtype=torch.float) # overrides the datatype of x_data\n",
    "print(f\"Random Tensor: \\n {x_rand} \\n\")"
   ]
  },
  {
   "cell_type": "code",
   "execution_count": 7,
   "id": "56089443",
   "metadata": {},
   "outputs": [
    {
     "name": "stdout",
     "output_type": "stream",
     "text": [
      "Random Tensor: \n",
      " tensor([[0.3694, 0.0082, 0.5964],\n",
      "        [0.0957, 0.0900, 0.2203]]) \n",
      "\n",
      "Ones Tensor: \n",
      " tensor([[1., 1., 1.],\n",
      "        [1., 1., 1.]]) \n",
      "\n",
      "Zeros Tensor: \n",
      " tensor([[0., 0., 0.],\n",
      "        [0., 0., 0.]])\n"
     ]
    }
   ],
   "source": [
    "# 4. With random or constant values\n",
    "\n",
    "shape = (2,3,)\n",
    "rand_tensor = torch.rand(shape)\n",
    "ones_tensor = torch.ones(shape)\n",
    "zeros_tensor = torch.zeros(shape)\n",
    "\n",
    "print(f\"Random Tensor: \\n {rand_tensor} \\n\")\n",
    "print(f\"Ones Tensor: \\n {ones_tensor} \\n\")\n",
    "print(f\"Zeros Tensor: \\n {zeros_tensor}\")"
   ]
  },
  {
   "cell_type": "code",
   "execution_count": 8,
   "id": "0a2dec81",
   "metadata": {},
   "outputs": [
    {
     "name": "stdout",
     "output_type": "stream",
     "text": [
      "Shape of tensor: torch.Size([3, 4])\n",
      "Datatype of tensor: torch.float32\n",
      "Device tensor is stored on: cpu\n"
     ]
    }
   ],
   "source": [
    "# Attributes of a Tensor\n",
    "\n",
    "tensor = torch.rand(3,4)\n",
    "\n",
    "print(f\"Shape of tensor: {tensor.shape}\")\n",
    "print(f\"Datatype of tensor: {tensor.dtype}\")\n",
    "print(f\"Device tensor is stored on: {tensor.device}\")"
   ]
  },
  {
   "cell_type": "code",
   "execution_count": 9,
   "id": "df65839f",
   "metadata": {},
   "outputs": [
    {
     "data": {
      "text/plain": [
       "tensor([[0.6240, 0.7727, 0.5752, 0.7364],\n",
       "        [0.9086, 0.7419, 0.3698, 0.9716],\n",
       "        [0.7209, 0.1308, 0.2823, 0.6717]])"
      ]
     },
     "execution_count": 9,
     "metadata": {},
     "output_type": "execute_result"
    }
   ],
   "source": [
    "tensor"
   ]
  },
  {
   "cell_type": "markdown",
   "id": "d8cd6e32",
   "metadata": {},
   "source": [
    "#### Operations on Tensor\n",
    "\n",
    "By default, tensors are created on the CPU. Tensors can also be computed to GPUs - to do that, you need to move them using the .to method (after checking for GPU availability). Keep in mind that copying large tensors across devices can be expensive in terms of time and memory!"
   ]
  },
  {
   "cell_type": "code",
   "execution_count": 11,
   "id": "a30faa9e",
   "metadata": {},
   "outputs": [],
   "source": [
    "# We move our tensor to the GPU if available\n",
    "if torch.cuda.is_available():\n",
    "    tensor = tensor.to('cuda')"
   ]
  },
  {
   "cell_type": "code",
   "execution_count": 12,
   "id": "a58c8a2a",
   "metadata": {},
   "outputs": [
    {
     "name": "stdout",
     "output_type": "stream",
     "text": [
      "First row:  tensor([1., 1., 1., 1.])\n",
      "First column:  tensor([1., 1., 1., 1.])\n",
      "Last column: tensor([1., 1., 1., 1.])\n",
      "tensor([[1., 0., 1., 1.],\n",
      "        [1., 0., 1., 1.],\n",
      "        [1., 0., 1., 1.],\n",
      "        [1., 0., 1., 1.]])\n"
     ]
    }
   ],
   "source": [
    "# 1. Numpy-like indexing and slicing\n",
    "\n",
    "tensor = torch.ones(4, 4)\n",
    "print('First row: ',tensor[0])\n",
    "print('First column: ', tensor[:, 0])\n",
    "print('Last column:', tensor[..., -1])\n",
    "tensor[:,1] = 0\n",
    "print(tensor)"
   ]
  },
  {
   "cell_type": "code",
   "execution_count": 13,
   "id": "21b3e047",
   "metadata": {},
   "outputs": [
    {
     "name": "stdout",
     "output_type": "stream",
     "text": [
      "tensor([[1., 0., 1., 1., 1., 0., 1., 1., 1., 0., 1., 1.],\n",
      "        [1., 0., 1., 1., 1., 0., 1., 1., 1., 0., 1., 1.],\n",
      "        [1., 0., 1., 1., 1., 0., 1., 1., 1., 0., 1., 1.],\n",
      "        [1., 0., 1., 1., 1., 0., 1., 1., 1., 0., 1., 1.]])\n"
     ]
    }
   ],
   "source": [
    "# 2. Joining Tensors\n",
    "\n",
    "t1 = torch.cat([tensor, tensor, tensor], dim=1)\n",
    "print(t1)"
   ]
  },
  {
   "cell_type": "code",
   "execution_count": 14,
   "id": "2873d554",
   "metadata": {},
   "outputs": [
    {
     "data": {
      "text/plain": [
       "tensor([[1., 0., 1., 1.],\n",
       "        [1., 0., 1., 1.],\n",
       "        [1., 0., 1., 1.],\n",
       "        [1., 0., 1., 1.]])"
      ]
     },
     "execution_count": 14,
     "metadata": {},
     "output_type": "execute_result"
    }
   ],
   "source": [
    "# Arithmetic Operations\n",
    "\n",
    "# This computes the matrix multiplication between two tensors. y1, y2, y3 will have the same value\n",
    "y1 = tensor @ tensor.T\n",
    "y2 = tensor.matmul(tensor.T)\n",
    "\n",
    "y3 = torch.rand_like(tensor)\n",
    "torch.matmul(tensor, tensor.T, out=y3)\n",
    "\n",
    "\n",
    "# This computes the element-wise product. z1, z2, z3 will have the same value\n",
    "z1 = tensor * tensor\n",
    "z2 = tensor.mul(tensor)\n",
    "\n",
    "z3 = torch.rand_like(tensor)\n",
    "torch.mul(tensor, tensor, out=z3)"
   ]
  },
  {
   "cell_type": "code",
   "execution_count": 18,
   "id": "1ad364b6",
   "metadata": {},
   "outputs": [
    {
     "data": {
      "text/plain": [
       "tensor([[1., 0., 1., 1.],\n",
       "        [1., 0., 1., 1.],\n",
       "        [1., 0., 1., 1.],\n",
       "        [1., 0., 1., 1.]])"
      ]
     },
     "execution_count": 18,
     "metadata": {},
     "output_type": "execute_result"
    }
   ],
   "source": [
    "y1\n",
    "y2\n",
    "y3\n",
    "z1"
   ]
  },
  {
   "cell_type": "code",
   "execution_count": 19,
   "id": "2c24394e",
   "metadata": {},
   "outputs": [
    {
     "name": "stdout",
     "output_type": "stream",
     "text": [
      "12.0 <class 'float'>\n"
     ]
    }
   ],
   "source": [
    "# Single-element tensors\n",
    "# If you have a one-element tensor, for example by aggregating all values of a tensor into one value, \n",
    "#you can convert it to a Python numerical value using item():\n",
    "\n",
    "agg = tensor.sum()\n",
    "agg_item = agg.item()  \n",
    "print(agg_item, type(agg_item))"
   ]
  },
  {
   "cell_type": "code",
   "execution_count": 21,
   "id": "36d8d219",
   "metadata": {},
   "outputs": [
    {
     "data": {
      "text/plain": [
       "12.0"
      ]
     },
     "execution_count": 21,
     "metadata": {},
     "output_type": "execute_result"
    }
   ],
   "source": [
    "agg_item"
   ]
  },
  {
   "cell_type": "code",
   "execution_count": 22,
   "id": "57bd75da",
   "metadata": {},
   "outputs": [
    {
     "name": "stdout",
     "output_type": "stream",
     "text": [
      "tensor([[1., 0., 1., 1.],\n",
      "        [1., 0., 1., 1.],\n",
      "        [1., 0., 1., 1.],\n",
      "        [1., 0., 1., 1.]]) \n",
      "\n",
      "tensor([[6., 5., 6., 6.],\n",
      "        [6., 5., 6., 6.],\n",
      "        [6., 5., 6., 6.],\n",
      "        [6., 5., 6., 6.]])\n"
     ]
    }
   ],
   "source": [
    "# In-place operations\n",
    "\n",
    "# Operations that store the result into the operand are called in-place. \n",
    "# They are denoted by a _ suffix. For example: x.copy_(y), x.t_(), will change x.\n",
    "# Note: In-place operations save some memory, but can be problematic when computing derivatives \n",
    "# because of an immediate loss of history. Hence, their use is discouraged.\n",
    "\n",
    "print(tensor, \"\\n\")\n",
    "tensor.add_(5)\n",
    "print(tensor)"
   ]
  },
  {
   "cell_type": "code",
   "execution_count": 23,
   "id": "c5bc406d",
   "metadata": {},
   "outputs": [
    {
     "name": "stdout",
     "output_type": "stream",
     "text": [
      "t: tensor([1., 1., 1., 1., 1.])\n",
      "n: [1. 1. 1. 1. 1.]\n"
     ]
    }
   ],
   "source": [
    "# Bridge with NumPy\n",
    "# Tensors on the CPU and NumPy arrays can share their underlying memory locations, and changing one will \n",
    "# change the other.\n",
    "\n",
    "# Tensor to NumPy array\n",
    "t = torch.ones(5)\n",
    "print(f\"t: {t}\")\n",
    "n = t.numpy()\n",
    "print(f\"n: {n}\")"
   ]
  },
  {
   "cell_type": "code",
   "execution_count": 24,
   "id": "e87b9993",
   "metadata": {},
   "outputs": [
    {
     "name": "stdout",
     "output_type": "stream",
     "text": [
      "t: tensor([2., 2., 2., 2., 2.])\n",
      "n: [2. 2. 2. 2. 2.]\n"
     ]
    }
   ],
   "source": [
    "t.add_(1)\n",
    "print(f\"t: {t}\")\n",
    "print(f\"n: {n}\")"
   ]
  },
  {
   "cell_type": "code",
   "execution_count": 25,
   "id": "e27ca066",
   "metadata": {},
   "outputs": [],
   "source": [
    "# Numpy array to Tensor\n",
    "\n",
    "n = np.ones(5)\n",
    "t = torch.from_numpy(n)"
   ]
  },
  {
   "cell_type": "code",
   "execution_count": 26,
   "id": "3345f57e",
   "metadata": {},
   "outputs": [
    {
     "name": "stdout",
     "output_type": "stream",
     "text": [
      "t: tensor([2., 2., 2., 2., 2.], dtype=torch.float64)\n",
      "n: [2. 2. 2. 2. 2.]\n"
     ]
    }
   ],
   "source": [
    "np.add(n, 1, out=n)\n",
    "print(f\"t: {t}\")\n",
    "print(f\"n: {n}\")"
   ]
  },
  {
   "cell_type": "markdown",
   "id": "2b03aebc",
   "metadata": {},
   "source": [
    "Changes in the numpy array reflects in the tensor"
   ]
  },
  {
   "cell_type": "markdown",
   "id": "a9ad46cc",
   "metadata": {},
   "source": [
    "### Loading and normalizing datasets"
   ]
  },
  {
   "cell_type": "markdown",
   "id": "0ab131ab",
   "metadata": {},
   "source": [
    "#### Datasets and Dataloaders\n",
    "\n",
    "Dataset stores the samples and their corresponding labels, and DataLoader wraps an iterable around the Dataset to enable easy access to the samples.\n",
    "\n",
    "Code for processing data samples can get messy and hard to maintain; we ideally want our dataset code to be decoupled from our model training code for better readability and modularity. PyTorch provides two data primitives: torch.utils.data.DataLoader and torch.utils.data.Dataset that allow you to use pre-loaded datasets as well as your own data. Dataset stores the samples and their corresponding labels, and DataLoader wraps an iterable around the Dataset to enable easy access to the samples.\n",
    "\n",
    "PyTorch domain libraries provide a number of sample pre-loaded datasets (such as FashionMNIST) that subclass torch.utils.data.Dataset and implement functions specific to the particular data. "
   ]
  },
  {
   "cell_type": "markdown",
   "id": "56c86118",
   "metadata": {},
   "source": [
    "#### Loading a dataset\n",
    "\n",
    "We will be loading the Fashion-MNIST dataset from TorchVision. Fashion-MNIST is a dataset of Zalando’s article images consisting of of 60,000 training examples and 10,000 test examples. Each example comprises a 28×28 grayscale image and an associated label from one of 10 classes.\n",
    "Each image is 28 pixels in height and 28 pixels in width, with a total of 784 pixels\n",
    "The 10 classes tell what type of image it is. For example: T-shirt/top, Trouser, Pullover, Dress, Bag, Ankle boot etc.\n",
    "\n",
    "The grayscale are values between 0 to 255 that measure the intensity of black and white images. The intensity value increase from white to black. For example: a white color will be 0, while a black color will 255."
   ]
  },
  {
   "cell_type": "markdown",
   "id": "2d08bd54",
   "metadata": {},
   "source": [
    "We load the FashionMNIST Dataset with the following parameters:\n",
    "\n",
    "* root is the path where the train/test data is stored,\n",
    "* train specifies training or test dataset,\n",
    "* download=True downloads the data from the Internet if it's not available at root.\n",
    "* transform and target_transform specify the feature and label transformations"
   ]
  },
  {
   "cell_type": "code",
   "execution_count": 27,
   "id": "777b55e8",
   "metadata": {},
   "outputs": [],
   "source": [
    "%matplotlib inline\n",
    "import torch\n",
    "from torch.utils.data import Dataset\n",
    "from torchvision import datasets\n",
    "from torchvision.transforms import ToTensor, Lambda\n",
    "import matplotlib.pyplot as plt\n",
    "\n",
    "training_data = datasets.FashionMNIST(\n",
    "    root=\"data\",\n",
    "    train=True,\n",
    "    download=True,\n",
    "    transform=ToTensor()\n",
    ")\n",
    "\n",
    "test_data = datasets.FashionMNIST(\n",
    "    root=\"data\",\n",
    "    train=False,\n",
    "    download=True,\n",
    "    transform=ToTensor()\n",
    ")"
   ]
  },
  {
   "cell_type": "code",
   "execution_count": 28,
   "id": "3cbbcd7a",
   "metadata": {},
   "outputs": [
    {
     "data": {
      "text/plain": [
       "Dataset FashionMNIST\n",
       "    Number of datapoints: 60000\n",
       "    Root location: data\n",
       "    Split: Train\n",
       "    StandardTransform\n",
       "Transform: ToTensor()"
      ]
     },
     "execution_count": 28,
     "metadata": {},
     "output_type": "execute_result"
    }
   ],
   "source": [
    "training_data"
   ]
  },
  {
   "cell_type": "code",
   "execution_count": 29,
   "id": "ec4c8942",
   "metadata": {},
   "outputs": [
    {
     "data": {
      "text/plain": [
       "Dataset FashionMNIST\n",
       "    Number of datapoints: 10000\n",
       "    Root location: data\n",
       "    Split: Test\n",
       "    StandardTransform\n",
       "Transform: ToTensor()"
      ]
     },
     "execution_count": 29,
     "metadata": {},
     "output_type": "execute_result"
    }
   ],
   "source": [
    "test_data"
   ]
  },
  {
   "cell_type": "markdown",
   "id": "a9f7b0df",
   "metadata": {},
   "source": [
    "#### Iterating and Visualizing the Dataset\n",
    "\n",
    "We can index Datasets manually like a list: training_data[index]. We use matplotlib to visualize some samples in our training data."
   ]
  },
  {
   "cell_type": "code",
   "execution_count": 35,
   "id": "80d12d6f",
   "metadata": {},
   "outputs": [
    {
     "data": {
      "image/png": "[encoded data removed]",
      "text/plain": [
       "<Figure size 576x576 with 9 Axes>"
      ]
     },
     "metadata": {
      "needs_background": "light"
     },
     "output_type": "display_data"
    }
   ],
   "source": [
    "labels_map = {\n",
    "    0: \"T-Shirt\",\n",
    "    1: \"Trouser\",\n",
    "    2: \"Pullover\",\n",
    "    3: \"Dress\",\n",
    "    4: \"Coat\",\n",
    "    5: \"Sandal\",\n",
    "    6: \"Shirt\",\n",
    "    7: \"Sneaker\",\n",
    "    8: \"Bag\",\n",
    "    9: \"Ankle Boot\",\n",
    "}\n",
    "figure = plt.figure(figsize=(8, 8))\n",
    "cols, rows = 3, 3\n",
    "for i in range(1, cols * rows + 1):\n",
    "    sample_idx = torch.randint(len(training_data), size=(1,)).item()\n",
    "    img, label = training_data[sample_idx]\n",
    "    figure.add_subplot(rows, cols, i)\n",
    "    plt.title(labels_map[label])\n",
    "    plt.axis(\"off\")\n",
    "    plt.imshow(img.squeeze(), cmap=\"gray\")\n",
    "plt.show()"
   ]
  },
  {
   "cell_type": "markdown",
   "id": "dd4cee42",
   "metadata": {},
   "source": [
    "#### Preparing your data for training with DataLoaders\n",
    "\n",
    "The Dataset retrieves our dataset's features and labels one sample at a time. While training a model, we typically want to pass samples in \"minibatches\", reshuffle the data at every epoch to reduce model overfitting, and use Python's multiprocessing to speed up data retrieval.\n",
    "\n",
    "In machine learning, you need to specify what the feature and label are in your dataset. Features are input and labels are output. We train use features and train the model to predict the label.\n",
    "\n",
    "Labels are what 10 class types: T-shirt, Sandal, Dress etc\n",
    "Features are the patterns in the images pixels\n",
    "\n",
    "The DataLoader is an iterable that abstracts this complexity for us in an easy API. We use the Dataloader, we need to set the following paraments:\n",
    "\n",
    "* data - the training data that will be used to train the model; and test data to evaluate the model\n",
    "* batch size - the number of records to be processed in each batch\n",
    "* shuffle the randoms sample of the data by indices"
   ]
  },
  {
   "cell_type": "code",
   "execution_count": 36,
   "id": "f7aba379",
   "metadata": {},
   "outputs": [],
   "source": [
    "from torch.utils.data import DataLoader\n",
    "\n",
    "train_dataloader = DataLoader(training_data, batch_size=64, shuffle=True)\n",
    "test_dataloader = DataLoader(test_data, batch_size=64, shuffle=True)"
   ]
  },
  {
   "cell_type": "code",
   "execution_count": 39,
   "id": "911d7d73",
   "metadata": {},
   "outputs": [
    {
     "data": {
      "text/plain": [
       "<torch.utils.data.dataloader.DataLoader at 0x7fd4004a6fd0>"
      ]
     },
     "execution_count": 39,
     "metadata": {},
     "output_type": "execute_result"
    }
   ],
   "source": [
    "train_dataloader"
   ]
  },
  {
   "cell_type": "code",
   "execution_count": 40,
   "id": "8cbb9afc",
   "metadata": {},
   "outputs": [
    {
     "data": {
      "text/plain": [
       "<torch.utils.data.dataloader.DataLoader at 0x7fd440540880>"
      ]
     },
     "execution_count": 40,
     "metadata": {},
     "output_type": "execute_result"
    }
   ],
   "source": [
    "test_dataloader"
   ]
  },
  {
   "cell_type": "markdown",
   "id": "487b3c78",
   "metadata": {},
   "source": [
    "#### Iterate through the DataLoader\n",
    "\n",
    "We have loaded that dataset into the Dataloader and can iterate through the dataset as needed. Each iteration below returns a batch of train_features and train_labels"
   ]
  },
  {
   "cell_type": "code",
   "execution_count": 41,
   "id": "7e702a63",
   "metadata": {},
   "outputs": [
    {
     "name": "stdout",
     "output_type": "stream",
     "text": [
      "Feature batch shape: torch.Size([64, 1, 28, 28])\n",
      "Labels batch shape: torch.Size([64])\n"
     ]
    },
    {
     "data": {
      "image/png": "[encoded data removed]",
      "text/plain": [
       "<Figure size 432x288 with 1 Axes>"
      ]
     },
     "metadata": {
      "needs_background": "light"
     },
     "output_type": "display_data"
    },
    {
     "name": "stdout",
     "output_type": "stream",
     "text": [
      "Label: 7\n"
     ]
    }
   ],
   "source": [
    "# Display image and label.\n",
    "train_features, train_labels = next(iter(train_dataloader))\n",
    "print(f\"Feature batch shape: {train_features.size()}\")\n",
    "print(f\"Labels batch shape: {train_labels.size()}\")\n",
    "img = train_features[0].squeeze()\n",
    "label = train_labels[0]\n",
    "plt.imshow(img, cmap=\"gray\")\n",
    "plt.show()\n",
    "print(f\"Label: {label}\")"
   ]
  },
  {
   "cell_type": "markdown",
   "id": "f3e41e9b",
   "metadata": {},
   "source": [
    "#### Normalization\n",
    "\n",
    "Normalization is a common data pre-processing technique that is applied to scale or transform the data to make sure there's an equal learning contribution from each feature. For example, each pixel in the grayscale images have a value between 0 and 255, which are features. If one pixel value is 17 and another pixel is 197. There will be an uneven distribution of the pixel importance, because the higher pixel volumes will deviate the learning. Normalization changes the range of your data, without distorting its distintion among out feature. \n",
    "\n",
    "This pre-processing is to avoid:\n",
    "\n",
    "* A reduction of the prediction accuracy\n",
    "* Difficulty for the model to learn\n",
    "* Unfavorable distribution of the feature data ranges"
   ]
  },
  {
   "cell_type": "markdown",
   "id": "d6626661",
   "metadata": {},
   "source": [
    "#### Transforms\n",
    "\n",
    "Data does not always come in its final processed form that is required for training machine learning algorithms. We use transforms to perform some manipulation of the data and make it suitable for training.\n",
    "\n",
    "All TorchVision datasets have two parameters (transform to modify the features and target_transform to modify the labels) that accept callables containing the transformation logic. The torchvision.transforms module offers several commonly-used transforms out of the box.\n",
    "\n",
    "The FashionMNIST features are in PIL Image format, and the labels are integers. For training, we need the features as normalized tensors, and the labels as one-hot encoded tensors. To make these transformations, we use ToTensor and Lambda."
   ]
  },
  {
   "cell_type": "code",
   "execution_count": 43,
   "id": "ea6881bf",
   "metadata": {},
   "outputs": [],
   "source": [
    "from torchvision import datasets\n",
    "from torchvision.transforms import ToTensor, Lambda\n",
    "\n",
    "ds = datasets.FashionMNIST(\n",
    "    root=\"data\",\n",
    "    train=True,\n",
    "    download=True,\n",
    "    transform=ToTensor(),\n",
    "    target_transform=Lambda(lambda y: torch.zeros(10, dtype=torch.float).scatter_(0, torch.tensor(y), value=1))\n",
    ")"
   ]
  },
  {
   "cell_type": "code",
   "execution_count": 44,
   "id": "c5391810",
   "metadata": {},
   "outputs": [
    {
     "data": {
      "text/plain": [
       "Dataset FashionMNIST\n",
       "    Number of datapoints: 60000\n",
       "    Root location: data\n",
       "    Split: Train\n",
       "    StandardTransform\n",
       "Transform: ToTensor()\n",
       "Target transform: Lambda()"
      ]
     },
     "execution_count": 44,
     "metadata": {},
     "output_type": "execute_result"
    }
   ],
   "source": [
    "ds"
   ]
  },
  {
   "cell_type": "markdown",
   "id": "43f30552",
   "metadata": {},
   "source": [
    "#### ToTensor()\n",
    "\n",
    "ToTensor converts a PIL image or NumPy ndarray into a FloatTensor and scales the image's pixel intensity values in the range [0., 1.]"
   ]
  },
  {
   "cell_type": "markdown",
   "id": "83358511",
   "metadata": {},
   "source": [
    "#### Lambda transforms\n",
    "\n",
    "Lambda transforms apply any user-defined lambda function. Here, we define a function to turn the integer into a one-hot encoded tensor. It first creates a zero tensor of size 10 (the number of labels in our dataset) and calls scatter which assigns a value=1 on the index as given by the label y. You can also use torch.nn.functional.one_hot as another option to do that."
   ]
  },
  {
   "cell_type": "code",
   "execution_count": 45,
   "id": "cb347059",
   "metadata": {},
   "outputs": [],
   "source": [
    "target_transform = Lambda(lambda y: torch.zeros(\n",
    "    10, dtype=torch.float).scatter_(dim=0, index=torch.tensor(y), value=1))"
   ]
  },
  {
   "cell_type": "code",
   "execution_count": 46,
   "id": "0ea1f8db",
   "metadata": {},
   "outputs": [
    {
     "data": {
      "text/plain": [
       "Lambda()"
      ]
     },
     "execution_count": 46,
     "metadata": {},
     "output_type": "execute_result"
    }
   ],
   "source": [
    "target_transform"
   ]
  },
  {
   "cell_type": "markdown",
   "id": "9ed07e17",
   "metadata": {},
   "source": [
    "### Neural Network"
   ]
  },
  {
   "cell_type": "markdown",
   "id": "0665e67f",
   "metadata": {},
   "source": [
    "#### What is a neural network? \n",
    "\n",
    "Neural network is a collection of neurons that are connected by layers. Each neuron is a small computing unit that performs simple calculations to collectively solve a problem. They are organized in layers. There are 3 types of layers: input layer, hidden layer and outter layer. Each layer contains a number of neurons, except for the input layer. Neural networks mimic the way a human brain processes information.\n",
    "\n",
    "Components of a neural network\n",
    "Activation function determines whether a neuron should be activated or not. The computations that happen in a neural network include applying an activation function. If a neuron activates, then it means the input is important. The are different kinds of activation functions. The choice of which activation function to use depends on what you want the output to be. Another important role of an activation function is to add non-linearity to the model.\n",
    "\n",
    "* Binary used to set an output node to 1 if function result is positive and 0 if the function result is negative. \n",
    " \n",
    "* Sigmod is used to predict the probability of an output node being between 0 and 1.  \n",
    " \n",
    "* Tanh is used to predict if an output node is between 1 and -1. Used in classification use cases. \n",
    " \n",
    "* ReLU used to set the output node to 0 if fuction result is negative and keeps the result value if the result is a positive value.  \n",
    " \n",
    "Weights influence how well the output of our network will come close to the expected output value. \n",
    "\n",
    "As an input enters the neuron, it gets multiplied by a weight value and the resulting output is either observed, or passed to the next layer in the neural network. Weights for all neurons in a layer are organized into one tensor\n",
    "\n",
    "Bias makes up the difference between the activation function's output and its intended output. A low bias suggest that the network is making more assumptions about the form of the output, whereas a high bias value makes less assumptions about the form of the output."
   ]
  },
  {
   "cell_type": "code",
   "execution_count": 47,
   "id": "1a68d851",
   "metadata": {},
   "outputs": [],
   "source": [
    "%matplotlib inline\n",
    "import os\n",
    "import torch\n",
    "from torch import nn\n",
    "from torch.utils.data import DataLoader\n",
    "from torchvision import datasets, transforms"
   ]
  },
  {
   "cell_type": "code",
   "execution_count": 48,
   "id": "7f7182d6",
   "metadata": {},
   "outputs": [
    {
     "name": "stdout",
     "output_type": "stream",
     "text": [
      "Using cpu device\n"
     ]
    }
   ],
   "source": [
    "device = 'cuda' if torch.cuda.is_available() else 'cpu'\n",
    "print('Using {} device'.format(device))"
   ]
  },
  {
   "cell_type": "markdown",
   "id": "843946a7",
   "metadata": {},
   "source": [
    "Define the class\n",
    "\n",
    "We define our neural network by subclassing nn.Module, and initialize the neural network layers in __init__. Every nn.Module subclass implements the operations on input data in the forward method.\n",
    "\n",
    "Our neural network are composed of the following:\n",
    "\n",
    "* The input layer with 28x28 or 784 features/pixels.\n",
    "* The first linear module takes the input 784 features and transforms it to a hidden layer with 512 features\n",
    "* The ReLU activation function will be applied in the transformation\n",
    "* The second linear module take 512 features as input from the first hidden layer and transforms it to the next hidden layer with 512 features\n",
    "* The ReLU activation function will be applied in the transformation\n",
    "* The third linear module take 512 features as input from the second hidden layer and transforms it to the output layer with 10, which is the number of classes\n",
    "* The ReLU activation function will be applied in the transformation"
   ]
  },
  {
   "cell_type": "code",
   "execution_count": 49,
   "id": "526e9896",
   "metadata": {},
   "outputs": [],
   "source": [
    "class NeuralNetwork(nn.Module):\n",
    "    def __init__(self):\n",
    "        super(NeuralNetwork, self).__init__()\n",
    "        self.flatten = nn.Flatten()\n",
    "        self.linear_relu_stack = nn.Sequential(\n",
    "            nn.Linear(28*28, 512),\n",
    "            nn.ReLU(),\n",
    "            nn.Linear(512, 512),\n",
    "            nn.ReLU(),\n",
    "            nn.Linear(512, 10),\n",
    "            nn.ReLU()\n",
    "        )\n",
    "\n",
    "    def forward(self, x):\n",
    "        x = self.flatten(x)\n",
    "        logits = self.linear_relu_stack(x)\n",
    "        return logits"
   ]
  },
  {
   "cell_type": "code",
   "execution_count": 50,
   "id": "1dbcde28",
   "metadata": {},
   "outputs": [
    {
     "name": "stdout",
     "output_type": "stream",
     "text": [
      "NeuralNetwork(\n",
      "  (flatten): Flatten(start_dim=1, end_dim=-1)\n",
      "  (linear_relu_stack): Sequential(\n",
      "    (0): Linear(in_features=784, out_features=512, bias=True)\n",
      "    (1): ReLU()\n",
      "    (2): Linear(in_features=512, out_features=512, bias=True)\n",
      "    (3): ReLU()\n",
      "    (4): Linear(in_features=512, out_features=10, bias=True)\n",
      "    (5): ReLU()\n",
      "  )\n",
      ")\n"
     ]
    }
   ],
   "source": [
    "model = NeuralNetwork().to(device)\n",
    "print(model)"
   ]
  },
  {
   "cell_type": "code",
   "execution_count": 51,
   "id": "3898bd67",
   "metadata": {},
   "outputs": [
    {
     "name": "stdout",
     "output_type": "stream",
     "text": [
      "Predicted class: tensor([0])\n"
     ]
    }
   ],
   "source": [
    "X = torch.rand(1, 28, 28, device=device)\n",
    "logits = model(X) \n",
    "pred_probab = nn.Softmax(dim=1)(logits)\n",
    "y_pred = pred_probab.argmax(1)\n",
    "print(f\"Predicted class: {y_pred}\")"
   ]
  },
  {
   "cell_type": "markdown",
   "id": "90942f24",
   "metadata": {},
   "source": [
    "#### Weight and Bias\n",
    "\n",
    "The nn.Linear module randomly initializes the weights and bias for each layer and internally stores the values in Tensors."
   ]
  },
  {
   "cell_type": "code",
   "execution_count": 52,
   "id": "1aea3331",
   "metadata": {},
   "outputs": [
    {
     "name": "stdout",
     "output_type": "stream",
     "text": [
      "First Linear weights: Parameter containing:\n",
      "tensor([[-0.0075, -0.0063, -0.0177,  ...,  0.0068, -0.0305,  0.0317],\n",
      "        [ 0.0153, -0.0282, -0.0018,  ...,  0.0314,  0.0302, -0.0013],\n",
      "        [ 0.0270, -0.0014, -0.0130,  ...,  0.0197,  0.0167,  0.0348],\n",
      "        ...,\n",
      "        [ 0.0068, -0.0224, -0.0348,  ..., -0.0066, -0.0214, -0.0041],\n",
      "        [-0.0205,  0.0228, -0.0283,  ..., -0.0037, -0.0181,  0.0200],\n",
      "        [-0.0163,  0.0210,  0.0212,  ...,  0.0277, -0.0019,  0.0166]],\n",
      "       requires_grad=True) \n",
      "\n",
      "First Linear weights: Parameter containing:\n",
      "tensor([-2.4686e-02, -1.4145e-02,  2.5632e-02, -1.8788e-02,  2.3101e-02,\n",
      "        -1.5516e-02, -2.2981e-03, -2.4330e-02,  3.4067e-02, -1.4462e-02,\n",
      "         1.9523e-02,  2.7911e-02,  2.5028e-02, -2.6767e-03,  6.5128e-03,\n",
      "         3.3066e-02, -1.9164e-02,  5.0693e-03, -2.2971e-02,  4.7998e-03,\n",
      "         3.3566e-02,  2.1927e-02,  8.0844e-04, -7.4269e-03, -3.4997e-02,\n",
      "         1.8391e-02,  2.0202e-03, -1.4579e-02,  2.6380e-02,  1.8124e-02,\n",
      "        -1.7316e-02, -4.4988e-03, -2.3559e-03,  3.3111e-02,  3.4506e-02,\n",
      "         1.8264e-02,  2.0588e-02, -3.0428e-03,  2.3675e-02,  8.6727e-03,\n",
      "        -2.5936e-03,  1.2930e-02, -1.9809e-02,  1.3538e-02, -1.8805e-02,\n",
      "        -1.5063e-03,  2.4154e-02,  2.9124e-02,  3.0984e-02, -1.7847e-02,\n",
      "         1.1008e-02, -3.4996e-02, -1.8788e-02, -3.7722e-03,  1.5993e-02,\n",
      "         1.4364e-02,  2.4124e-02, -1.3319e-02,  6.6388e-03, -5.8676e-03,\n",
      "         2.3032e-02,  1.1095e-02,  7.7548e-03, -2.3106e-02, -4.2744e-03,\n",
      "         2.4649e-02, -3.0198e-02, -8.9491e-03, -2.1477e-02,  2.4879e-03,\n",
      "         1.1759e-02,  2.6926e-02,  7.0025e-04,  9.5894e-03, -3.5657e-02,\n",
      "        -1.9542e-02, -3.8476e-03,  5.7347e-03,  6.4063e-03,  2.2102e-02,\n",
      "        -2.5738e-02,  4.1402e-03, -3.2309e-02,  2.7030e-02,  1.9220e-02,\n",
      "        -2.3978e-02, -1.6755e-03, -9.7125e-03, -3.3773e-02, -2.9491e-02,\n",
      "         1.1930e-02,  1.3900e-02, -9.6023e-03, -9.3290e-03, -2.3973e-02,\n",
      "         2.6127e-02, -2.3236e-02,  3.3424e-02,  8.6603e-03, -9.4498e-03,\n",
      "         3.3912e-03,  5.3659e-03, -3.5030e-02, -2.5212e-02,  6.1380e-03,\n",
      "         1.8072e-02, -4.2439e-03,  3.0408e-02, -2.3657e-02, -1.1058e-02,\n",
      "         1.1310e-02, -1.1184e-02,  1.8086e-02,  3.5410e-02, -2.2334e-02,\n",
      "        -5.4202e-03, -2.4251e-02, -2.0720e-02, -2.1467e-02, -1.7296e-03,\n",
      "         1.3621e-02, -3.9458e-03,  1.2797e-03,  2.1689e-02,  1.0144e-02,\n",
      "         1.8471e-02,  2.6724e-02,  9.2027e-03,  1.9792e-03, -1.2535e-02,\n",
      "        -2.2355e-02,  2.9263e-02,  2.0192e-02, -1.1205e-02,  3.5838e-03,\n",
      "        -1.0019e-02,  1.4543e-02, -3.1124e-02, -4.2519e-03, -1.6464e-02,\n",
      "        -2.9269e-02,  2.7672e-02, -8.4219e-04,  1.0771e-03, -2.0745e-02,\n",
      "         2.7580e-02, -4.4795e-04, -2.0206e-02, -1.2650e-02,  1.1412e-02,\n",
      "        -9.7616e-03,  1.4341e-02, -4.5689e-03,  3.2106e-02, -9.4407e-03,\n",
      "        -1.9911e-02,  2.6001e-02,  3.3039e-02,  2.1328e-02, -1.5995e-02,\n",
      "         2.8248e-02,  7.3376e-03, -2.6070e-02,  1.4086e-02,  2.4585e-02,\n",
      "        -2.6649e-03, -6.4722e-03, -2.8249e-02,  2.0023e-02, -3.3999e-02,\n",
      "        -1.5040e-02, -1.3620e-02,  6.5112e-04,  4.4655e-03,  3.0454e-02,\n",
      "         1.1367e-03,  2.1670e-02, -1.7332e-02, -6.1201e-03,  2.2916e-02,\n",
      "         6.3990e-03, -6.0341e-03,  1.9996e-02, -3.3908e-02,  3.5708e-02,\n",
      "        -1.9956e-02,  1.6971e-02, -2.2957e-02,  1.5159e-02,  3.3941e-02,\n",
      "        -1.2548e-02, -7.1004e-03, -5.3288e-03,  3.4735e-02,  3.4460e-02,\n",
      "        -2.3366e-02,  3.3579e-02, -1.8587e-02,  3.3454e-02,  1.4750e-02,\n",
      "        -5.6048e-03, -6.8484e-04,  9.5080e-03, -1.8026e-02, -2.9287e-03,\n",
      "        -3.1668e-02, -2.3192e-02,  1.9421e-02,  2.2430e-02,  3.4551e-03,\n",
      "        -1.8250e-03,  2.0468e-02, -2.5943e-02,  1.3545e-02,  2.3018e-02,\n",
      "         5.6312e-03,  3.4971e-03, -2.7753e-02,  7.3725e-03,  1.4217e-02,\n",
      "        -2.2264e-02, -7.2559e-03, -1.3891e-02,  5.4067e-03,  1.1865e-02,\n",
      "        -1.3264e-02,  2.1610e-02, -1.3593e-02, -6.8194e-03,  1.1706e-02,\n",
      "        -2.1426e-02, -3.5038e-02,  1.0424e-02,  5.9310e-03,  3.4466e-02,\n",
      "        -2.7929e-02, -9.7897e-03,  1.5170e-02,  1.4222e-02, -4.5542e-03,\n",
      "        -1.9153e-02,  1.9761e-02, -3.3699e-02,  2.8008e-02, -3.3563e-02,\n",
      "         2.2220e-02, -2.5743e-02,  8.2331e-03, -6.1163e-03, -1.2688e-02,\n",
      "        -2.2214e-02,  8.7109e-03,  1.5718e-03,  9.6451e-03, -8.8329e-03,\n",
      "         2.8108e-02,  2.8406e-02,  2.2485e-02, -1.7465e-02,  1.9782e-02,\n",
      "        -1.7169e-02, -1.7621e-02, -1.6540e-02,  1.8518e-02,  7.6981e-03,\n",
      "        -3.3567e-03, -2.7100e-02,  2.5964e-03, -4.7935e-03, -9.5804e-03,\n",
      "         6.9468e-03,  3.0161e-02,  4.4852e-03,  2.2733e-02, -2.1418e-02,\n",
      "         3.4011e-02, -1.5167e-02,  3.0191e-02,  3.3904e-02,  4.7458e-03,\n",
      "        -1.5295e-02,  2.9796e-02,  2.3627e-02,  1.5379e-02, -3.4209e-02,\n",
      "         1.9662e-02, -2.5112e-02, -1.7566e-02,  1.4595e-02, -1.2055e-02,\n",
      "        -2.8128e-02, -1.8804e-02,  2.8041e-02, -8.3748e-03, -1.3241e-02,\n",
      "        -3.0168e-02, -9.8158e-05, -2.0241e-02,  1.5595e-02,  2.6639e-02,\n",
      "         2.8287e-03, -3.4939e-02,  2.6012e-02,  3.2081e-02,  2.8263e-02,\n",
      "         3.0445e-02,  2.9784e-02, -7.9822e-03,  2.7188e-02, -2.7224e-02,\n",
      "        -1.3477e-02,  8.2786e-03,  4.8013e-04, -4.4566e-03,  1.9468e-02,\n",
      "        -1.8909e-02, -1.8616e-02,  2.5426e-02, -1.7309e-02, -2.4130e-02,\n",
      "        -1.0152e-02,  8.9333e-03, -1.2827e-02, -2.1365e-02, -1.6690e-02,\n",
      "         2.0195e-03,  2.7375e-02, -1.4238e-02,  1.3903e-02, -3.0414e-02,\n",
      "         1.9080e-02, -1.3310e-02,  3.6118e-03,  2.2221e-03,  1.3913e-02,\n",
      "        -1.4478e-02,  1.0141e-02, -2.7688e-02,  2.5003e-02, -5.6085e-03,\n",
      "         2.8218e-02,  6.2807e-03, -1.4637e-02,  7.9895e-03,  3.5474e-02,\n",
      "         1.1603e-02,  2.9386e-02,  1.7117e-02, -2.0178e-02,  3.2183e-02,\n",
      "        -1.8900e-02, -1.7283e-02,  1.5308e-02, -2.1125e-02,  6.7674e-03,\n",
      "        -1.5880e-02, -8.2518e-03,  5.0929e-03, -7.0058e-03,  2.0286e-02,\n",
      "        -3.1425e-02, -2.5506e-02,  1.1079e-02,  2.9438e-02,  2.6138e-02,\n",
      "        -3.0494e-03,  1.7184e-02,  1.7338e-02, -1.1766e-02, -2.4566e-02,\n",
      "        -2.6423e-02,  3.0483e-03,  2.9888e-02, -1.3415e-02,  1.4508e-02,\n",
      "        -2.4699e-02,  2.6321e-02, -2.2393e-02,  3.0438e-02,  1.0093e-02,\n",
      "         2.4906e-02,  1.9191e-02,  1.9154e-02, -9.5012e-03, -9.5954e-03,\n",
      "         5.2526e-03,  1.5321e-02, -2.4646e-02,  2.1288e-03,  3.2318e-02,\n",
      "        -4.1333e-04,  2.5303e-02, -4.5418e-03,  2.2709e-02, -1.7398e-02,\n",
      "        -1.5523e-03,  2.1161e-02,  3.1147e-02,  2.0144e-02, -8.0424e-03,\n",
      "         1.1792e-02,  2.9470e-02, -9.5317e-03,  3.4791e-02, -1.1952e-02,\n",
      "        -7.8859e-03, -1.3526e-02,  3.1694e-02,  6.7268e-03,  3.2537e-03,\n",
      "        -6.8925e-03,  7.1498e-03, -1.4996e-02,  1.6650e-02,  3.0461e-02,\n",
      "         2.5282e-02, -1.7007e-02, -6.9120e-03,  5.7166e-03,  2.1547e-02,\n",
      "         2.0895e-03,  4.0502e-03, -1.2437e-02, -1.1577e-02,  2.5612e-02,\n",
      "        -9.6197e-03, -1.7353e-02, -8.3205e-03, -2.1153e-02, -5.3685e-03,\n",
      "         8.7405e-03,  1.1061e-02,  8.7780e-03, -6.1254e-03,  1.3301e-02,\n",
      "         1.4647e-02,  2.1568e-02,  2.8844e-02, -3.2260e-02, -5.3404e-03,\n",
      "         1.3704e-02, -2.9877e-02, -1.9552e-02,  2.1029e-02, -9.4278e-03,\n",
      "         9.9043e-03, -2.2194e-02, -1.8717e-02,  2.6646e-02, -2.6517e-02,\n",
      "         7.8025e-03,  3.2067e-02, -2.6582e-02,  5.5846e-03, -1.5064e-03,\n",
      "        -1.8961e-02, -1.8008e-03, -4.1424e-03, -1.4172e-02, -1.6228e-02,\n",
      "         3.4111e-02, -2.1146e-02, -2.2686e-02,  1.6448e-02, -1.5793e-02,\n",
      "         2.2497e-02, -1.7969e-02,  3.0281e-02, -1.6725e-02,  1.7639e-03,\n",
      "        -1.6229e-02,  2.7733e-02,  1.1734e-02,  1.8782e-03,  2.1371e-02,\n",
      "         1.4491e-02,  1.6775e-02, -1.2249e-02,  2.9306e-02, -3.0539e-02,\n",
      "         1.3134e-04,  1.6581e-02, -1.6314e-02,  1.3177e-02,  2.8147e-02,\n",
      "         1.3848e-02, -1.1777e-02,  1.4762e-02,  2.9487e-02,  2.9000e-03,\n",
      "        -2.9448e-02, -5.5463e-03, -8.8305e-03, -2.5358e-02, -8.6362e-03,\n",
      "        -2.3471e-02,  3.5504e-02, -2.8983e-03,  1.5462e-02,  3.6435e-03,\n",
      "         5.8174e-03,  2.2062e-02, -2.2074e-02,  2.6369e-02,  2.3274e-02,\n",
      "         4.9291e-03,  1.5049e-02, -1.5475e-03,  1.2503e-02, -8.3577e-03,\n",
      "        -2.3873e-02, -1.2800e-02], requires_grad=True) \n",
      "\n"
     ]
    }
   ],
   "source": [
    "print(f\"First Linear weights: {model.linear_relu_stack[0].weight} \\n\")\n",
    "\n",
    "print(f\"First Linear weights: {model.linear_relu_stack[0].bias} \\n\")"
   ]
  },
  {
   "cell_type": "markdown",
   "id": "1618f8c0",
   "metadata": {},
   "source": [
    "#### Model layers\n",
    "\n",
    "Let's break down the layers in the FashionMNIST model. To illustrate it, we will take a sample minibatch of 3 images of size 28x28 and see what happens to it as we pass it through the network."
   ]
  },
  {
   "cell_type": "code",
   "execution_count": 53,
   "id": "fe807d1c",
   "metadata": {},
   "outputs": [
    {
     "name": "stdout",
     "output_type": "stream",
     "text": [
      "torch.Size([3, 28, 28])\n"
     ]
    }
   ],
   "source": [
    "input_image = torch.rand(3,28,28)\n",
    "print(input_image.size())"
   ]
  },
  {
   "cell_type": "markdown",
   "id": "506b6da7",
   "metadata": {},
   "source": [
    "#### nn.Flatten\n",
    "\n",
    "We initialize the nn.Flatten layer to convert each 2D 28x28 image into a contiguous array of 784 pixel values (the minibatch dimension (at dim=0) is maintained). Each of the pixels are pass to the input layer of the neural network."
   ]
  },
  {
   "cell_type": "code",
   "execution_count": 55,
   "id": "760ec22f",
   "metadata": {},
   "outputs": [
    {
     "name": "stdout",
     "output_type": "stream",
     "text": [
      "torch.Size([3, 784])\n"
     ]
    }
   ],
   "source": [
    "flatten = nn.Flatten()\n",
    "flat_image = flatten(input_image)\n",
    "print(flat_image.size())"
   ]
  },
  {
   "cell_type": "code",
   "execution_count": 59,
   "id": "2601131e",
   "metadata": {},
   "outputs": [
    {
     "data": {
      "text/plain": [
       "tensor([[0.7155, 0.3447, 0.4943,  ..., 0.8211, 0.5648, 0.4984],\n",
       "        [0.3674, 0.5599, 0.0748,  ..., 0.5421, 0.2912, 0.0978],\n",
       "        [0.8447, 0.8559, 0.9184,  ..., 0.5830, 0.4699, 0.0251]])"
      ]
     },
     "execution_count": 59,
     "metadata": {},
     "output_type": "execute_result"
    }
   ],
   "source": [
    "input_image\n",
    "flat_image"
   ]
  },
  {
   "cell_type": "markdown",
   "id": "2c1b4e49",
   "metadata": {},
   "source": [
    "#### nn.Linear\n",
    "\n",
    "The linear layer is a module that applies a linear transformation on the input using it's stored weights and biases. The gayscale value of each pixel in the input layer will be connected to neurons in the hidden layer for calculation. The calculation used for the transformation is weights * input + bias"
   ]
  },
  {
   "cell_type": "code",
   "execution_count": 60,
   "id": "0bc40b4e",
   "metadata": {},
   "outputs": [
    {
     "name": "stdout",
     "output_type": "stream",
     "text": [
      "torch.Size([3, 20])\n"
     ]
    }
   ],
   "source": [
    "layer1 = nn.Linear(in_features=28*28, out_features=20)\n",
    "hidden1 = layer1(flat_image)\n",
    "print(hidden1.size())"
   ]
  },
  {
   "cell_type": "markdown",
   "id": "f7a0e9c9",
   "metadata": {},
   "source": [
    "#### nn.ReLU\n",
    "\n",
    "Non-linear activations are what create the complex mappings between the model's inputs and outputs. They are applied after linear transformations to introduce nonlinearity, helping neural networks learn a wide variety of phenomena. In this model, we use nn.ReLU between our linear layers, but there's other activations to introduce non-linearity in your model.\n",
    "\n",
    "The ReLU activation function takes the output from the linear layer calculation and replaces the negative values with zeros.\n",
    "\n",
    "ReLU = max(0,x)\n",
    "\n",
    "x = weight * input + bias"
   ]
  },
  {
   "cell_type": "code",
   "execution_count": 61,
   "id": "5120a95c",
   "metadata": {},
   "outputs": [
    {
     "name": "stdout",
     "output_type": "stream",
     "text": [
      "Before ReLU: tensor([[ 0.1852,  0.4639, -0.3602,  0.1875,  0.0384, -0.1733,  0.2722, -0.0175,\n",
      "         -0.2187, -0.1235,  0.0070,  0.4329,  0.1992,  0.6661,  0.6487, -0.2233,\n",
      "          0.0947, -0.7094,  0.1725,  0.3038],\n",
      "        [ 0.2009,  0.5764, -0.3062,  0.4216,  0.3433, -0.1364, -0.1773, -0.0684,\n",
      "          0.0098,  0.1442,  0.1669,  0.6113,  0.2728,  0.1726,  0.6037, -0.5498,\n",
      "         -0.0141, -0.6771,  0.0998,  0.4295],\n",
      "        [ 0.0976,  0.4688, -0.1078,  0.2447, -0.0832, -0.2877, -0.0254,  0.2482,\n",
      "         -0.0781,  0.0177,  0.4059,  0.4381, -0.1784,  0.3811,  0.3785, -0.0117,\n",
      "          0.2768, -0.0989,  0.1285,  0.2355]], grad_fn=<AddmmBackward0>)\n",
      "\n",
      "\n",
      "After ReLU: tensor([[0.1852, 0.4639, 0.0000, 0.1875, 0.0384, 0.0000, 0.2722, 0.0000, 0.0000,\n",
      "         0.0000, 0.0070, 0.4329, 0.1992, 0.6661, 0.6487, 0.0000, 0.0947, 0.0000,\n",
      "         0.1725, 0.3038],\n",
      "        [0.2009, 0.5764, 0.0000, 0.4216, 0.3433, 0.0000, 0.0000, 0.0000, 0.0098,\n",
      "         0.1442, 0.1669, 0.6113, 0.2728, 0.1726, 0.6037, 0.0000, 0.0000, 0.0000,\n",
      "         0.0998, 0.4295],\n",
      "        [0.0976, 0.4688, 0.0000, 0.2447, 0.0000, 0.0000, 0.0000, 0.2482, 0.0000,\n",
      "         0.0177, 0.4059, 0.4381, 0.0000, 0.3811, 0.3785, 0.0000, 0.2768, 0.0000,\n",
      "         0.1285, 0.2355]], grad_fn=<ReluBackward0>)\n"
     ]
    }
   ],
   "source": [
    "print(f\"Before ReLU: {hidden1}\\n\\n\")\n",
    "hidden1 = nn.ReLU()(hidden1)\n",
    "print(f\"After ReLU: {hidden1}\")"
   ]
  },
  {
   "cell_type": "markdown",
   "id": "5308722e",
   "metadata": {},
   "source": [
    "#### nn.Sequential\n",
    "\n",
    "nn.Sequential is an ordered container of modules. The data is passed through all the modules in the same order as defined. You can use sequential containers to put together a quick network like seq_modules."
   ]
  },
  {
   "cell_type": "code",
   "execution_count": 62,
   "id": "2162d062",
   "metadata": {},
   "outputs": [],
   "source": [
    "seq_modules = nn.Sequential(\n",
    "    flatten,\n",
    "    layer1,\n",
    "    nn.ReLU(),\n",
    "    nn.Linear(20, 10)\n",
    ")\n",
    "input_image = torch.rand(3,28,28)\n",
    "logits = seq_modules(input_image)"
   ]
  },
  {
   "cell_type": "code",
   "execution_count": 64,
   "id": "e83c86ec",
   "metadata": {},
   "outputs": [
    {
     "data": {
      "text/plain": [
       "tensor([[ 0.0828, -0.0153, -0.3985, -0.0068, -0.3247,  0.2511,  0.1741,  0.0506,\n",
       "         -0.0942,  0.1012],\n",
       "        [ 0.0141, -0.0068, -0.2954,  0.0669, -0.3415,  0.2657,  0.1059,  0.1389,\n",
       "         -0.1723,  0.1161],\n",
       "        [-0.0612, -0.0833, -0.3402,  0.1332, -0.3056,  0.3236,  0.1127,  0.0747,\n",
       "         -0.0403,  0.0826]], grad_fn=<AddmmBackward0>)"
      ]
     },
     "execution_count": 64,
     "metadata": {},
     "output_type": "execute_result"
    }
   ],
   "source": [
    "input_image\n",
    "logits"
   ]
  },
  {
   "cell_type": "markdown",
   "id": "5e9f49f1",
   "metadata": {},
   "source": [
    "#### nn.Softmax\n",
    "\n",
    "The last linear layer of the neural network returns logits - raw values in [-infty, infty], which are passed to the nn.Softmax module. The Softmax activation function is used to calculate the probability of the output from the neural network. It is only used on the output layer of a neural network. The results are scaled to values [0, 1] representing the model's predicted densities for each class. dim parameter indicates the dimension along which the result values must sum to 1. The node with the highest probability predicts the desired output."
   ]
  },
  {
   "cell_type": "code",
   "execution_count": 65,
   "id": "54707081",
   "metadata": {},
   "outputs": [],
   "source": [
    "softmax = nn.Softmax(dim=1)\n",
    "pred_probab = softmax(logits)"
   ]
  },
  {
   "cell_type": "code",
   "execution_count": 67,
   "id": "f4d1e9a5",
   "metadata": {},
   "outputs": [
    {
     "data": {
      "text/plain": [
       "tensor([[0.1086, 0.0985, 0.0671, 0.0993, 0.0723, 0.1285, 0.1190, 0.1052, 0.0910,\n",
       "         0.1106],\n",
       "        [0.1008, 0.0987, 0.0740, 0.1063, 0.0706, 0.1296, 0.1105, 0.1142, 0.0837,\n",
       "         0.1116],\n",
       "        [0.0933, 0.0913, 0.0706, 0.1134, 0.0731, 0.1372, 0.1111, 0.1069, 0.0953,\n",
       "         0.1078]], grad_fn=<SoftmaxBackward0>)"
      ]
     },
     "execution_count": 67,
     "metadata": {},
     "output_type": "execute_result"
    }
   ],
   "source": [
    "softmax\n",
    "pred_probab"
   ]
  },
  {
   "cell_type": "markdown",
   "id": "066d834d",
   "metadata": {},
   "source": [
    "#### Model parameters\n",
    "\n",
    "Many layers inside a neural network are parameterized, i.e. have associated weights and biases that are optimized during training. Subclassing nn.Module automatically tracks all fields defined inside your model object, and makes all parameters accessible using your model's parameters() or named_parameters() methods.\n",
    "In this example, we iterate over each parameter, and print its size and a preview of its values."
   ]
  },
  {
   "cell_type": "code",
   "execution_count": 68,
   "id": "942c013d",
   "metadata": {},
   "outputs": [
    {
     "name": "stdout",
     "output_type": "stream",
     "text": [
      "Model structure:  NeuralNetwork(\n",
      "  (flatten): Flatten(start_dim=1, end_dim=-1)\n",
      "  (linear_relu_stack): Sequential(\n",
      "    (0): Linear(in_features=784, out_features=512, bias=True)\n",
      "    (1): ReLU()\n",
      "    (2): Linear(in_features=512, out_features=512, bias=True)\n",
      "    (3): ReLU()\n",
      "    (4): Linear(in_features=512, out_features=10, bias=True)\n",
      "    (5): ReLU()\n",
      "  )\n",
      ") \n",
      "\n",
      "\n",
      "Layer: linear_relu_stack.0.weight | Size: torch.Size([512, 784]) | Values : tensor([[-0.0075, -0.0063, -0.0177,  ...,  0.0068, -0.0305,  0.0317],\n",
      "        [ 0.0153, -0.0282, -0.0018,  ...,  0.0314,  0.0302, -0.0013]],\n",
      "       grad_fn=<SliceBackward0>) \n",
      "\n",
      "Layer: linear_relu_stack.0.bias | Size: torch.Size([512]) | Values : tensor([-0.0247, -0.0141], grad_fn=<SliceBackward0>) \n",
      "\n",
      "Layer: linear_relu_stack.2.weight | Size: torch.Size([512, 512]) | Values : tensor([[ 0.0147,  0.0258, -0.0363,  ...,  0.0130,  0.0057,  0.0410],\n",
      "        [-0.0115,  0.0415, -0.0354,  ..., -0.0367,  0.0055, -0.0401]],\n",
      "       grad_fn=<SliceBackward0>) \n",
      "\n",
      "Layer: linear_relu_stack.2.bias | Size: torch.Size([512]) | Values : tensor([-0.0280,  0.0382], grad_fn=<SliceBackward0>) \n",
      "\n",
      "Layer: linear_relu_stack.4.weight | Size: torch.Size([10, 512]) | Values : tensor([[ 0.0408,  0.0393, -0.0007,  ...,  0.0032,  0.0245,  0.0207],\n",
      "        [-0.0263,  0.0106,  0.0142,  ..., -0.0140, -0.0419,  0.0423]],\n",
      "       grad_fn=<SliceBackward0>) \n",
      "\n",
      "Layer: linear_relu_stack.4.bias | Size: torch.Size([10]) | Values : tensor([-0.0195, -0.0195], grad_fn=<SliceBackward0>) \n",
      "\n"
     ]
    }
   ],
   "source": [
    "print(\"Model structure: \", model, \"\\n\\n\")\n",
    "\n",
    "for name, param in model.named_parameters():\n",
    "    print(f\"Layer: {name} | Size: {param.size()} | Values : {param[:2]} \\n\")"
   ]
  },
  {
   "cell_type": "markdown",
   "id": "5c766cae",
   "metadata": {},
   "source": [
    "#### Automatic differentiation with torch.autograd\n",
    "\n",
    "When training neural networks, the most frequently used algorithm is back propagation. In this algorithm, parameters (model weights) are adjusted according to the gradient of the loss function with respect to the given parameter. The loss function calulates the difference between the expected output and the actual output that a neural network produces. The goal is to get the result of the loss function as close to zero as possible. The algorithm traverse backwards through the network network to adjust the weights and bias to retrain the model. That's why it's called back propagation. This back and forward process of retraining the model over time to reduce the loss to 0 is called the gradient descent.\n",
    "\n",
    "To compute those gradients, PyTorch has a built-in differentiation engine called torch.autograd. It supports automatic computation of gradient for any computational graph.\n",
    "\n",
    "Consider the simplest one-layer neural network, with input x, parameters w and b, and some loss function. It can be defined in PyTorch in the following manner:"
   ]
  },
  {
   "cell_type": "code",
   "execution_count": 69,
   "id": "a50554cc",
   "metadata": {},
   "outputs": [],
   "source": [
    "%matplotlib inline\n",
    "import torch\n",
    "\n",
    "x = torch.ones(5)  # input tensor\n",
    "y = torch.zeros(3)  # expected output\n",
    "w = torch.randn(5, 3, requires_grad=True)\n",
    "b = torch.randn(3, requires_grad=True)\n",
    "z = torch.matmul(x, w)+b\n",
    "loss = torch.nn.functional.binary_cross_entropy_with_logits(z, y)"
   ]
  },
  {
   "cell_type": "code",
   "execution_count": 71,
   "id": "e4605e24",
   "metadata": {},
   "outputs": [
    {
     "data": {
      "text/plain": [
       "tensor(1.0499, grad_fn=<BinaryCrossEntropyWithLogitsBackward0>)"
      ]
     },
     "execution_count": 71,
     "metadata": {},
     "output_type": "execute_result"
    }
   ],
   "source": [
    "loss"
   ]
  },
  {
   "cell_type": "markdown",
   "id": "7ec0eb5b",
   "metadata": {},
   "source": [
    "In this network, w and b are parameters, which we need to optimize. Thus, we need to be able to compute the gradients of loss function with respect to those variables. In order to do that, we set the requires_grad property of those tensors.\n",
    "\n",
    "Note: You can set the value of requires_grad when creating a tensor, or later by using x.requires_grad_(True) method.\n",
    "\n",
    "A function that we apply to tensors to construct computational graph is in fact an object of class Function. This object knows how to compute the function in the forward direction, and also how to compute its derivative during the backward propagation step. A reference to the backward propagation function is stored in grad_fn property of a tensor."
   ]
  },
  {
   "cell_type": "code",
   "execution_count": 72,
   "id": "918b1ff7",
   "metadata": {},
   "outputs": [
    {
     "name": "stdout",
     "output_type": "stream",
     "text": [
      "Gradient function for z = <AddBackward0 object at 0x7fd46160b4c0>\n",
      "Gradient function for loss = <BinaryCrossEntropyWithLogitsBackward0 object at 0x7fd4615c4d60>\n"
     ]
    }
   ],
   "source": [
    "print('Gradient function for z =',z.grad_fn)\n",
    "print('Gradient function for loss =', loss.grad_fn)"
   ]
  },
  {
   "cell_type": "markdown",
   "id": "4377b1af",
   "metadata": {},
   "source": [
    "#### Computing gradients\n",
    "To optimize weights of parameters in the neural network, we need to compute the derivatives of our loss function with respect to parameters, namely, we need ∂loss/∂w and ∂loss/∂b under some fixed values of x and y. To compute those derivatives, we call loss.backward(), and then retrieve the values from w.grad and b.grad:"
   ]
  },
  {
   "cell_type": "code",
   "execution_count": 73,
   "id": "5ac27967",
   "metadata": {},
   "outputs": [
    {
     "name": "stdout",
     "output_type": "stream",
     "text": [
      "tensor([[0.3029, 0.1717, 0.0103],\n",
      "        [0.3029, 0.1717, 0.0103],\n",
      "        [0.3029, 0.1717, 0.0103],\n",
      "        [0.3029, 0.1717, 0.0103],\n",
      "        [0.3029, 0.1717, 0.0103]])\n",
      "tensor([0.3029, 0.1717, 0.0103])\n"
     ]
    }
   ],
   "source": [
    "loss.backward()\n",
    "print(w.grad)\n",
    "print(b.grad)"
   ]
  },
  {
   "cell_type": "markdown",
   "id": "c198103f",
   "metadata": {},
   "source": [
    "### Optimizing the model parameters\n",
    "\n",
    "Now that we have a model and data it's time to train, validate and test our model by optimizing its parameters on our data. Training a model is an iterative process; in each iteration (called an epoch). The model makes a guess about the output, calculates the error in its guess (loss), collects the derivatives of the error with respect to its parameters (as we saw in the previous module), and optimizes these parameters using gradient descent.\n",
    "\n",
    "We will load the code from the previous modules on Datasets & DataLoaders and Build Model"
   ]
  },
  {
   "cell_type": "code",
   "execution_count": 74,
   "id": "fec8ba4f",
   "metadata": {},
   "outputs": [],
   "source": [
    "%matplotlib inline\n",
    "import torch\n",
    "from torch import nn\n",
    "from torch.utils.data import DataLoader\n",
    "from torchvision import datasets\n",
    "from torchvision.transforms import ToTensor, Lambda\n",
    "\n",
    "training_data = datasets.FashionMNIST(\n",
    "    root=\"data\",\n",
    "    train=True,\n",
    "    download=True,\n",
    "    transform=ToTensor()\n",
    ")\n",
    "\n",
    "test_data = datasets.FashionMNIST(\n",
    "    root=\"data\",\n",
    "    train=False,\n",
    "    download=True,\n",
    "    transform=ToTensor()\n",
    ")\n",
    "\n",
    "train_dataloader = DataLoader(training_data, batch_size=64)\n",
    "test_dataloader = DataLoader(test_data, batch_size=64)\n",
    "\n",
    "class NeuralNetwork(nn.Module):\n",
    "    def __init__(self):\n",
    "        super(NeuralNetwork, self).__init__()\n",
    "        self.flatten = nn.Flatten()\n",
    "        self.linear_relu_stack = nn.Sequential(\n",
    "            nn.Linear(28*28, 512),\n",
    "            nn.ReLU(),\n",
    "            nn.Linear(512, 512),\n",
    "            nn.ReLU(),\n",
    "            nn.Linear(512, 10),\n",
    "            nn.ReLU()\n",
    "        )\n",
    "\n",
    "    def forward(self, x):\n",
    "        x = self.flatten(x)\n",
    "        logits = self.linear_relu_stack(x)\n",
    "        return logits\n",
    "\n",
    "model = NeuralNetwork()"
   ]
  },
  {
   "cell_type": "markdown",
   "id": "3a87482d",
   "metadata": {},
   "source": [
    "#### Setting hyperparameters\n",
    "\n",
    "Hyperparameters are adjustable parameters that let you control the model optimization process. Different hyperparameter values can impact model training and the level of accuracy.\n",
    "\n",
    "We define the following hyperparameters for training:\n",
    "\n",
    "* Number of Epochs - the number times the entire training dataset is pass through the network.\n",
    "* Batch Size - the number of data samples seen by the model in each epoch. Iterates are the number of batches needs to compete an epoch.\n",
    "* Learning Rate - the size of steps the model match as it searchs for best weights that will produce a higher model accuracy. Smaller values means the model will take a longer time to find the best weights, while larger values may result in the model step over and misses the best weights which yields unpredictable behavior during training."
   ]
  },
  {
   "cell_type": "code",
   "execution_count": 75,
   "id": "8d6d520f",
   "metadata": {},
   "outputs": [],
   "source": [
    "learning_rate = 1e-3\n",
    "batch_size = 64\n",
    "epochs = 5"
   ]
  },
  {
   "cell_type": "markdown",
   "id": "6788d1ea",
   "metadata": {},
   "source": [
    "#### Add an optimization loop\n",
    "\n",
    "Once we set our hyperparameters, we can then train and optimize our model with an optimization loop. Each iteration of the optimization loop is called an epoch.\n",
    "\n",
    "Each epoch consists of two main parts:\n",
    "\n",
    "* The Train Loop - iterate over the training dataset and try to converge to optimal parameters.\n",
    "* The Validation/Test Loop - iterate over the test dataset to check if model performance is improving.\n",
    "\n",
    "Let's briefly familiarize ourselves with some of the concepts used in the training loop. Jump ahead to see the full-impl-label of the optimization loop.\n",
    "\n",
    "#### Add a loss function\n",
    "\n",
    "When presented with some training data, our untrained network is likely not to give the correct answer. Loss function measures the degree of dissimilarity of obtained result to the target value, and it is the loss function that we want to minimize during training. To calculate the loss we make a prediction using the inputs of our given data sample and compare it against the true data label value.\n",
    "\n",
    "Common loss functions include:\n",
    "\n",
    "* nn.MSELoss (Mean Square Error) used for regression tasks\n",
    "* nn.NLLLoss (Negative Log Likelihood) used for classification\n",
    "* nn.CrossEntropyLoss combines nn.LogSoftmax and nn.NLLLoss\n",
    "\n",
    "We pass our model's output logits to nn.CrossEntropyLoss, which will normalize the logits and compute the prediction error."
   ]
  },
  {
   "cell_type": "code",
   "execution_count": 76,
   "id": "58b96366",
   "metadata": {},
   "outputs": [],
   "source": [
    "# Initialize the loss function\n",
    "loss_fn = nn.CrossEntropyLoss()"
   ]
  },
  {
   "cell_type": "code",
   "execution_count": 77,
   "id": "a6567979",
   "metadata": {},
   "outputs": [
    {
     "data": {
      "text/plain": [
       "CrossEntropyLoss()"
      ]
     },
     "execution_count": 77,
     "metadata": {},
     "output_type": "execute_result"
    }
   ],
   "source": [
    "loss_fn"
   ]
  },
  {
   "cell_type": "markdown",
   "id": "a0ae6268",
   "metadata": {},
   "source": [
    "#### Optimization pass\n",
    "\n",
    "Optimization is the process of adjusting model parameters to reduce model error in each training step. Optimization algorithms define how this process is performed (in this example we use Stochastic Gradient Descent). All optimization logic is encapsulated in the optimizer object. Here, we use the SGD optimizer; additionally, there are many different optimizers available in PyTorch such as ADAM' and 'RMSProp, that work better for different kinds of models and data.\n",
    "\n",
    "We initialize the optimizer by registering the model's parameters that need to be trained, and passing in the learning rate hyperparameter."
   ]
  },
  {
   "cell_type": "code",
   "execution_count": 78,
   "id": "c100f202",
   "metadata": {},
   "outputs": [],
   "source": [
    "optimizer = torch.optim.SGD(model.parameters(), lr=learning_rate)"
   ]
  },
  {
   "cell_type": "code",
   "execution_count": 79,
   "id": "48b2c549",
   "metadata": {},
   "outputs": [
    {
     "data": {
      "text/plain": [
       "SGD (\n",
       "Parameter Group 0\n",
       "    dampening: 0\n",
       "    foreach: None\n",
       "    lr: 0.001\n",
       "    maximize: False\n",
       "    momentum: 0\n",
       "    nesterov: False\n",
       "    weight_decay: 0\n",
       ")"
      ]
     },
     "execution_count": 79,
     "metadata": {},
     "output_type": "execute_result"
    }
   ],
   "source": [
    "optimizer"
   ]
  },
  {
   "cell_type": "markdown",
   "id": "81af5cd4",
   "metadata": {},
   "source": [
    "Inside the training loop, optimization happens in three steps:\n",
    "\n",
    "* Call optimizer.zero_grad() to reset the gradients of model parameters. Gradients by default add up; to prevent double-counting, we explicitly zero them at each iteration.\n",
    "* Back-propagate the prediction loss with a call to loss.backwards(). PyTorch deposits the gradients of the loss w.r.t. each parameter.\n",
    "* Once we have our gradients, we call optimizer.step() to adjust the parameters by the gradients collected in the backward pass."
   ]
  },
  {
   "cell_type": "markdown",
   "id": "2de1c6fb",
   "metadata": {},
   "source": [
    "#### Full implementation\n",
    "\n",
    "We define train_loop that loops over our optimization code, and test_loop that evaluates the model's performance against our test data."
   ]
  },
  {
   "cell_type": "code",
   "execution_count": 80,
   "id": "9c3d4fec",
   "metadata": {},
   "outputs": [],
   "source": [
    "def train_loop(dataloader, model, loss_fn, optimizer):\n",
    "    size = len(dataloader.dataset)\n",
    "    for batch, (X, y) in enumerate(dataloader):        \n",
    "        # Compute prediction and loss\n",
    "        pred = model(X)\n",
    "        loss = loss_fn(pred, y)\n",
    "        \n",
    "        # Backpropagation\n",
    "        optimizer.zero_grad()\n",
    "        loss.backward()\n",
    "        optimizer.step()\n",
    "\n",
    "        if batch % 100 == 0:\n",
    "            loss, current = loss.item(), batch * len(X)\n",
    "            print(f\"loss: {loss:>7f}  [{current:>5d}/{size:>5d}]\")\n",
    "\n",
    "\n",
    "def test_loop(dataloader, model, loss_fn):\n",
    "    size = len(dataloader.dataset)\n",
    "    test_loss, correct = 0, 0\n",
    "\n",
    "    with torch.no_grad():\n",
    "        for X, y in dataloader:\n",
    "            pred = model(X)\n",
    "            test_loss += loss_fn(pred, y).item()\n",
    "            correct += (pred.argmax(1) == y).type(torch.float).sum().item()\n",
    "            \n",
    "    test_loss /= size\n",
    "    correct /= size\n",
    "    print(f\"Test Error: \\n Accuracy: {(100*correct):>0.1f}%, Avg loss: {test_loss:>8f} \\n\")"
   ]
  },
  {
   "cell_type": "markdown",
   "id": "76a8a4a5",
   "metadata": {},
   "source": [
    "We initialize the loss function and optimizer, and pass it to train_loop and test_loop. Feel free to increase the number of epochs to track the model's improving performance."
   ]
  },
  {
   "cell_type": "code",
   "execution_count": 82,
   "id": "2733f0fe",
   "metadata": {},
   "outputs": [
    {
     "name": "stdout",
     "output_type": "stream",
     "text": [
      "Epoch 1\n",
      "-------------------------------\n",
      "loss: 1.642771  [    0/60000]\n",
      "loss: 1.542244  [ 6400/60000]\n",
      "loss: 1.410658  [12800/60000]\n",
      "loss: 1.286105  [19200/60000]\n",
      "loss: 1.185459  [25600/60000]\n",
      "loss: 1.461790  [32000/60000]\n",
      "loss: 1.329268  [38400/60000]\n",
      "loss: 1.498234  [44800/60000]\n",
      "loss: 1.513252  [51200/60000]\n",
      "loss: 1.187042  [57600/60000]\n",
      "Test Error: \n",
      " Accuracy: 55.9%, Avg loss: 0.021342 \n",
      "\n",
      "Epoch 2\n",
      "-------------------------------\n",
      "loss: 1.613605  [    0/60000]\n",
      "loss: 1.521411  [ 6400/60000]\n",
      "loss: 1.382055  [12800/60000]\n",
      "loss: 1.263778  [19200/60000]\n",
      "loss: 1.165856  [25600/60000]\n",
      "loss: 1.440478  [32000/60000]\n",
      "loss: 1.308721  [38400/60000]\n",
      "loss: 1.480896  [44800/60000]\n",
      "loss: 1.491123  [51200/60000]\n",
      "loss: 1.168526  [57600/60000]\n",
      "Test Error: \n",
      " Accuracy: 57.2%, Avg loss: 0.021047 \n",
      "\n",
      "Epoch 3\n",
      "-------------------------------\n",
      "loss: 1.587051  [    0/60000]\n",
      "loss: 1.502680  [ 6400/60000]\n",
      "loss: 1.357154  [12800/60000]\n",
      "loss: 1.245018  [19200/60000]\n",
      "loss: 1.150028  [25600/60000]\n",
      "loss: 1.421898  [32000/60000]\n",
      "loss: 1.290938  [38400/60000]\n",
      "loss: 1.465422  [44800/60000]\n",
      "loss: 1.471099  [51200/60000]\n",
      "loss: 1.152600  [57600/60000]\n",
      "Test Error: \n",
      " Accuracy: 58.2%, Avg loss: 0.020787 \n",
      "\n",
      "Epoch 4\n",
      "-------------------------------\n",
      "loss: 1.562821  [    0/60000]\n",
      "loss: 1.485684  [ 6400/60000]\n",
      "loss: 1.335323  [12800/60000]\n",
      "loss: 1.228434  [19200/60000]\n",
      "loss: 1.136571  [25600/60000]\n",
      "loss: 1.405294  [32000/60000]\n",
      "loss: 1.274990  [38400/60000]\n",
      "loss: 1.451401  [44800/60000]\n",
      "loss: 1.452649  [51200/60000]\n",
      "loss: 1.138783  [57600/60000]\n",
      "Test Error: \n",
      " Accuracy: 59.1%, Avg loss: 0.020553 \n",
      "\n",
      "Epoch 5\n",
      "-------------------------------\n",
      "loss: 1.540399  [    0/60000]\n",
      "loss: 1.469935  [ 6400/60000]\n",
      "loss: 1.315908  [12800/60000]\n",
      "loss: 1.213499  [19200/60000]\n",
      "loss: 1.124541  [25600/60000]\n",
      "loss: 1.390195  [32000/60000]\n",
      "loss: 1.260342  [38400/60000]\n",
      "loss: 1.438624  [44800/60000]\n",
      "loss: 1.435758  [51200/60000]\n",
      "loss: 1.126679  [57600/60000]\n",
      "Test Error: \n",
      " Accuracy: 60.0%, Avg loss: 0.020339 \n",
      "\n",
      "Epoch 6\n",
      "-------------------------------\n",
      "loss: 1.519933  [    0/60000]\n",
      "loss: 1.455366  [ 6400/60000]\n",
      "loss: 1.298746  [12800/60000]\n",
      "loss: 1.200187  [19200/60000]\n",
      "loss: 1.114141  [25600/60000]\n",
      "loss: 1.376864  [32000/60000]\n",
      "loss: 1.245583  [38400/60000]\n",
      "loss: 1.426829  [44800/60000]\n",
      "loss: 1.420301  [51200/60000]\n",
      "loss: 1.115949  [57600/60000]\n",
      "Test Error: \n",
      " Accuracy: 60.6%, Avg loss: 0.020142 \n",
      "\n",
      "Epoch 7\n",
      "-------------------------------\n",
      "loss: 1.501346  [    0/60000]\n",
      "loss: 1.441949  [ 6400/60000]\n",
      "loss: 1.283839  [12800/60000]\n",
      "loss: 1.187843  [19200/60000]\n",
      "loss: 1.104624  [25600/60000]\n",
      "loss: 1.364679  [32000/60000]\n",
      "loss: 1.231525  [38400/60000]\n",
      "loss: 1.416037  [44800/60000]\n",
      "loss: 1.406278  [51200/60000]\n",
      "loss: 1.106302  [57600/60000]\n",
      "Test Error: \n",
      " Accuracy: 61.2%, Avg loss: 0.019962 \n",
      "\n",
      "Epoch 8\n",
      "-------------------------------\n",
      "loss: 1.484353  [    0/60000]\n",
      "loss: 1.429532  [ 6400/60000]\n",
      "loss: 1.270544  [12800/60000]\n",
      "loss: 1.176599  [19200/60000]\n",
      "loss: 1.096347  [25600/60000]\n",
      "loss: 1.353880  [32000/60000]\n",
      "loss: 1.218554  [38400/60000]\n",
      "loss: 1.406651  [44800/60000]\n",
      "loss: 1.393589  [51200/60000]\n",
      "loss: 1.097412  [57600/60000]\n",
      "Test Error: \n",
      " Accuracy: 61.6%, Avg loss: 0.019797 \n",
      "\n",
      "Epoch 9\n",
      "-------------------------------\n",
      "loss: 1.469280  [    0/60000]\n",
      "loss: 1.418339  [ 6400/60000]\n",
      "loss: 1.258970  [12800/60000]\n",
      "loss: 1.166237  [19200/60000]\n",
      "loss: 1.088810  [25600/60000]\n",
      "loss: 1.343743  [32000/60000]\n",
      "loss: 1.206377  [38400/60000]\n",
      "loss: 1.398050  [44800/60000]\n",
      "loss: 1.382590  [51200/60000]\n",
      "loss: 1.089456  [57600/60000]\n",
      "Test Error: \n",
      " Accuracy: 62.0%, Avg loss: 0.019646 \n",
      "\n",
      "Epoch 10\n",
      "-------------------------------\n",
      "loss: 1.455806  [    0/60000]\n",
      "loss: 1.408048  [ 6400/60000]\n",
      "loss: 1.248736  [12800/60000]\n",
      "loss: 1.156654  [19200/60000]\n",
      "loss: 1.082245  [25600/60000]\n",
      "loss: 1.334650  [32000/60000]\n",
      "loss: 1.195013  [38400/60000]\n",
      "loss: 1.390651  [44800/60000]\n",
      "loss: 1.373010  [51200/60000]\n",
      "loss: 1.082301  [57600/60000]\n",
      "Test Error: \n",
      " Accuracy: 62.4%, Avg loss: 0.019509 \n",
      "\n",
      "Epoch 11\n",
      "-------------------------------\n",
      "loss: 1.444260  [    0/60000]\n",
      "loss: 1.398738  [ 6400/60000]\n",
      "loss: 1.239766  [12800/60000]\n",
      "loss: 1.147954  [19200/60000]\n",
      "loss: 1.076843  [25600/60000]\n",
      "loss: 1.326702  [32000/60000]\n",
      "loss: 1.184693  [38400/60000]\n",
      "loss: 1.384178  [44800/60000]\n",
      "loss: 1.364840  [51200/60000]\n",
      "loss: 1.076306  [57600/60000]\n",
      "Test Error: \n",
      " Accuracy: 62.6%, Avg loss: 0.019384 \n",
      "\n",
      "Epoch 12\n",
      "-------------------------------\n",
      "loss: 1.433803  [    0/60000]\n",
      "loss: 1.390472  [ 6400/60000]\n",
      "loss: 1.231776  [12800/60000]\n",
      "loss: 1.140276  [19200/60000]\n",
      "loss: 1.071801  [25600/60000]\n",
      "loss: 1.319253  [32000/60000]\n",
      "loss: 1.175416  [38400/60000]\n",
      "loss: 1.378251  [44800/60000]\n",
      "loss: 1.357857  [51200/60000]\n",
      "loss: 1.070909  [57600/60000]\n",
      "Test Error: \n",
      " Accuracy: 62.8%, Avg loss: 0.019272 \n",
      "\n",
      "Epoch 13\n",
      "-------------------------------\n",
      "loss: 1.424645  [    0/60000]\n",
      "loss: 1.383167  [ 6400/60000]\n",
      "loss: 1.224746  [12800/60000]\n",
      "loss: 1.133116  [19200/60000]\n",
      "loss: 1.067384  [25600/60000]\n",
      "loss: 1.312446  [32000/60000]\n",
      "loss: 1.167035  [38400/60000]\n",
      "loss: 1.373084  [44800/60000]\n",
      "loss: 1.352035  [51200/60000]\n",
      "loss: 1.065920  [57600/60000]\n",
      "Test Error: \n",
      " Accuracy: 62.9%, Avg loss: 0.019170 \n",
      "\n",
      "Epoch 14\n",
      "-------------------------------\n",
      "loss: 1.416779  [    0/60000]\n",
      "loss: 1.376695  [ 6400/60000]\n",
      "loss: 1.218423  [12800/60000]\n",
      "loss: 1.126622  [19200/60000]\n",
      "loss: 1.063435  [25600/60000]\n",
      "loss: 1.306177  [32000/60000]\n",
      "loss: 1.158980  [38400/60000]\n",
      "loss: 1.368823  [44800/60000]\n",
      "loss: 1.347060  [51200/60000]\n",
      "loss: 1.061497  [57600/60000]\n",
      "Test Error: \n",
      " Accuracy: 63.1%, Avg loss: 0.019077 \n",
      "\n",
      "Epoch 15\n",
      "-------------------------------\n",
      "loss: 1.409374  [    0/60000]\n",
      "loss: 1.370972  [ 6400/60000]\n",
      "loss: 1.212881  [12800/60000]\n",
      "loss: 1.120557  [19200/60000]\n",
      "loss: 1.059781  [25600/60000]\n",
      "loss: 1.300645  [32000/60000]\n",
      "loss: 1.151820  [38400/60000]\n",
      "loss: 1.364872  [44800/60000]\n",
      "loss: 1.343079  [51200/60000]\n",
      "loss: 1.057499  [57600/60000]\n",
      "Test Error: \n",
      " Accuracy: 63.2%, Avg loss: 0.018993 \n",
      "\n",
      "Epoch 16\n",
      "-------------------------------\n",
      "loss: 1.403020  [    0/60000]\n",
      "loss: 1.365817  [ 6400/60000]\n",
      "loss: 1.208091  [12800/60000]\n",
      "loss: 1.115053  [19200/60000]\n",
      "loss: 1.056150  [25600/60000]\n",
      "loss: 1.233507  [32000/60000]\n",
      "loss: 1.094825  [38400/60000]\n",
      "loss: 1.258753  [44800/60000]\n",
      "loss: 1.305250  [51200/60000]\n",
      "loss: 0.999355  [57600/60000]\n",
      "Test Error: \n",
      " Accuracy: 60.9%, Avg loss: 0.018131 \n",
      "\n",
      "Epoch 17\n",
      "-------------------------------\n",
      "loss: 1.344177  [    0/60000]\n",
      "loss: 1.352514  [ 6400/60000]\n",
      "loss: 1.162476  [12800/60000]\n",
      "loss: 1.074371  [19200/60000]\n",
      "loss: 1.041746  [25600/60000]\n",
      "loss: 1.174537  [32000/60000]\n",
      "loss: 1.067917  [38400/60000]\n",
      "loss: 1.229042  [44800/60000]\n",
      "loss: 1.278156  [51200/60000]\n",
      "loss: 0.981468  [57600/60000]\n",
      "Test Error: \n",
      " Accuracy: 61.2%, Avg loss: 0.017804 \n",
      "\n",
      "Epoch 18\n",
      "-------------------------------\n",
      "loss: 1.314894  [    0/60000]\n",
      "loss: 1.330299  [ 6400/60000]\n",
      "loss: 1.143586  [12800/60000]\n",
      "loss: 1.060814  [19200/60000]\n",
      "loss: 1.024006  [25600/60000]\n",
      "loss: 1.146120  [32000/60000]\n",
      "loss: 1.046196  [38400/60000]\n",
      "loss: 1.203986  [44800/60000]\n",
      "loss: 1.255246  [51200/60000]\n",
      "loss: 0.965707  [57600/60000]\n",
      "Test Error: \n",
      " Accuracy: 61.3%, Avg loss: 0.017532 \n",
      "\n",
      "Epoch 19\n",
      "-------------------------------\n",
      "loss: 1.292007  [    0/60000]\n",
      "loss: 1.313979  [ 6400/60000]\n",
      "loss: 1.130365  [12800/60000]\n",
      "loss: 1.049856  [19200/60000]\n",
      "loss: 1.012059  [25600/60000]\n",
      "loss: 1.124246  [32000/60000]\n",
      "loss: 1.028075  [38400/60000]\n",
      "loss: 1.184916  [44800/60000]\n",
      "loss: 1.239525  [51200/60000]\n",
      "loss: 0.953375  [57600/60000]\n",
      "Test Error: \n",
      " Accuracy: 62.4%, Avg loss: 0.017333 \n",
      "\n",
      "Epoch 20\n",
      "-------------------------------\n",
      "loss: 1.277315  [    0/60000]\n",
      "loss: 1.303701  [ 6400/60000]\n",
      "loss: 1.121976  [12800/60000]\n",
      "loss: 1.041592  [19200/60000]\n",
      "loss: 1.005451  [25600/60000]\n",
      "loss: 1.109055  [32000/60000]\n",
      "loss: 1.014492  [38400/60000]\n",
      "loss: 1.172142  [44800/60000]\n",
      "loss: 1.229300  [51200/60000]\n",
      "loss: 0.943582  [57600/60000]\n",
      "Test Error: \n",
      " Accuracy: 64.1%, Avg loss: 0.017183 \n",
      "\n",
      "Epoch 21\n",
      "-------------------------------\n",
      "loss: 1.266828  [    0/60000]\n",
      "loss: 1.296992  [ 6400/60000]\n",
      "loss: 1.116251  [12800/60000]\n",
      "loss: 1.034670  [19200/60000]\n",
      "loss: 1.001232  [25600/60000]\n",
      "loss: 1.097858  [32000/60000]\n",
      "loss: 1.003870  [38400/60000]\n",
      "loss: 1.163557  [44800/60000]\n",
      "loss: 1.222430  [51200/60000]\n",
      "loss: 0.935664  [57600/60000]\n",
      "Test Error: \n",
      " Accuracy: 65.3%, Avg loss: 0.017063 \n",
      "\n",
      "Epoch 22\n",
      "-------------------------------\n",
      "loss: 1.258523  [    0/60000]\n",
      "loss: 1.292318  [ 6400/60000]\n",
      "loss: 1.111997  [12800/60000]\n",
      "loss: 1.028778  [19200/60000]\n",
      "loss: 0.997681  [25600/60000]\n",
      "loss: 1.090029  [32000/60000]\n",
      "loss: 0.995396  [38400/60000]\n",
      "loss: 1.157874  [44800/60000]\n",
      "loss: 1.217481  [51200/60000]\n",
      "loss: 0.928771  [57600/60000]\n",
      "Test Error: \n",
      " Accuracy: 66.1%, Avg loss: 0.016962 \n",
      "\n",
      "Epoch 23\n",
      "-------------------------------\n",
      "loss: 1.251474  [    0/60000]\n",
      "loss: 1.288674  [ 6400/60000]\n",
      "loss: 1.108819  [12800/60000]\n",
      "loss: 1.023463  [19200/60000]\n",
      "loss: 0.994400  [25600/60000]\n",
      "loss: 1.084593  [32000/60000]\n",
      "loss: 0.988335  [38400/60000]\n",
      "loss: 1.153857  [44800/60000]\n",
      "loss: 1.213931  [51200/60000]\n",
      "loss: 0.922493  [57600/60000]\n",
      "Test Error: \n",
      " Accuracy: 66.7%, Avg loss: 0.016874 \n",
      "\n",
      "Epoch 24\n",
      "-------------------------------\n",
      "loss: 1.245282  [    0/60000]\n",
      "loss: 1.285434  [ 6400/60000]\n",
      "loss: 1.106199  [12800/60000]\n",
      "loss: 1.018531  [19200/60000]\n",
      "loss: 0.991461  [25600/60000]\n",
      "loss: 1.079952  [32000/60000]\n",
      "loss: 0.982104  [38400/60000]\n",
      "loss: 1.150868  [44800/60000]\n",
      "loss: 1.211164  [51200/60000]\n",
      "loss: 0.916735  [57600/60000]\n",
      "Test Error: \n",
      " Accuracy: 67.2%, Avg loss: 0.016796 \n",
      "\n",
      "Epoch 25\n",
      "-------------------------------\n",
      "loss: 1.239977  [    0/60000]\n",
      "loss: 1.282382  [ 6400/60000]\n",
      "loss: 1.104106  [12800/60000]\n",
      "loss: 1.013844  [19200/60000]\n",
      "loss: 0.988964  [25600/60000]\n",
      "loss: 1.076440  [32000/60000]\n",
      "loss: 0.976213  [38400/60000]\n",
      "loss: 1.148547  [44800/60000]\n",
      "loss: 1.208850  [51200/60000]\n",
      "loss: 0.911388  [57600/60000]\n",
      "Test Error: \n",
      " Accuracy: 67.6%, Avg loss: 0.016726 \n",
      "\n",
      "Epoch 26\n",
      "-------------------------------\n",
      "loss: 1.235021  [    0/60000]\n",
      "loss: 1.279393  [ 6400/60000]\n",
      "loss: 1.102198  [12800/60000]\n",
      "loss: 1.009354  [19200/60000]\n",
      "loss: 0.986347  [25600/60000]\n",
      "loss: 1.073746  [32000/60000]\n",
      "loss: 0.970951  [38400/60000]\n",
      "loss: 1.146423  [44800/60000]\n",
      "loss: 1.206936  [51200/60000]\n",
      "loss: 0.906694  [57600/60000]\n",
      "Test Error: \n",
      " Accuracy: 67.8%, Avg loss: 0.016663 \n",
      "\n",
      "Epoch 27\n",
      "-------------------------------\n",
      "loss: 1.230249  [    0/60000]\n",
      "loss: 1.276423  [ 6400/60000]\n",
      "loss: 1.100507  [12800/60000]\n",
      "loss: 1.005316  [19200/60000]\n",
      "loss: 0.983849  [25600/60000]\n",
      "loss: 1.071216  [32000/60000]\n",
      "loss: 0.966072  [38400/60000]\n",
      "loss: 1.144197  [44800/60000]\n",
      "loss: 1.205639  [51200/60000]\n",
      "loss: 0.902240  [57600/60000]\n",
      "Test Error: \n",
      " Accuracy: 68.0%, Avg loss: 0.016605 \n",
      "\n",
      "Epoch 28\n",
      "-------------------------------\n",
      "loss: 1.225719  [    0/60000]\n",
      "loss: 1.273778  [ 6400/60000]\n",
      "loss: 1.099030  [12800/60000]\n",
      "loss: 1.001379  [19200/60000]\n",
      "loss: 0.981468  [25600/60000]\n",
      "loss: 1.069196  [32000/60000]\n",
      "loss: 0.961385  [38400/60000]\n",
      "loss: 1.142474  [44800/60000]\n",
      "loss: 1.204460  [51200/60000]\n",
      "loss: 0.898466  [57600/60000]\n",
      "Test Error: \n",
      " Accuracy: 68.3%, Avg loss: 0.016552 \n",
      "\n",
      "Epoch 29\n",
      "-------------------------------\n",
      "loss: 1.221104  [    0/60000]\n",
      "loss: 1.271142  [ 6400/60000]\n",
      "loss: 1.097655  [12800/60000]\n",
      "loss: 0.997665  [19200/60000]\n",
      "loss: 0.978932  [25600/60000]\n",
      "loss: 1.067421  [32000/60000]\n",
      "loss: 0.957090  [38400/60000]\n",
      "loss: 1.141023  [44800/60000]\n",
      "loss: 1.203922  [51200/60000]\n",
      "loss: 0.894208  [57600/60000]\n",
      "Test Error: \n",
      " Accuracy: 68.4%, Avg loss: 0.016502 \n",
      "\n",
      "Epoch 30\n",
      "-------------------------------\n",
      "loss: 1.217075  [    0/60000]\n",
      "loss: 1.268469  [ 6400/60000]\n",
      "loss: 1.096414  [12800/60000]\n",
      "loss: 0.994022  [19200/60000]\n",
      "loss: 0.976838  [25600/60000]\n",
      "loss: 1.066076  [32000/60000]\n",
      "loss: 0.953193  [38400/60000]\n",
      "loss: 1.139802  [44800/60000]\n",
      "loss: 1.202923  [51200/60000]\n",
      "loss: 0.890087  [57600/60000]\n",
      "Test Error: \n",
      " Accuracy: 68.5%, Avg loss: 0.016456 \n",
      "\n",
      "Epoch 31\n",
      "-------------------------------\n",
      "loss: 1.213195  [    0/60000]\n",
      "loss: 1.265744  [ 6400/60000]\n",
      "loss: 1.095433  [12800/60000]\n",
      "loss: 0.990506  [19200/60000]\n",
      "loss: 0.974547  [25600/60000]\n",
      "loss: 1.064548  [32000/60000]\n",
      "loss: 0.949419  [38400/60000]\n",
      "loss: 1.138636  [44800/60000]\n",
      "loss: 1.201859  [51200/60000]\n",
      "loss: 0.886617  [57600/60000]\n",
      "Test Error: \n",
      " Accuracy: 68.7%, Avg loss: 0.016413 \n",
      "\n",
      "Epoch 32\n",
      "-------------------------------\n",
      "loss: 1.209184  [    0/60000]\n",
      "loss: 1.263024  [ 6400/60000]\n",
      "loss: 1.094459  [12800/60000]\n",
      "loss: 0.987151  [19200/60000]\n",
      "loss: 0.972348  [25600/60000]\n",
      "loss: 1.063026  [32000/60000]\n",
      "loss: 0.945813  [38400/60000]\n",
      "loss: 1.138169  [44800/60000]\n",
      "loss: 1.201181  [51200/60000]\n",
      "loss: 0.882826  [57600/60000]\n",
      "Test Error: \n",
      " Accuracy: 68.8%, Avg loss: 0.016372 \n",
      "\n",
      "Epoch 33\n",
      "-------------------------------\n",
      "loss: 1.205408  [    0/60000]\n",
      "loss: 1.260260  [ 6400/60000]\n",
      "loss: 1.093599  [12800/60000]\n",
      "loss: 0.983512  [19200/60000]\n",
      "loss: 0.970174  [25600/60000]\n",
      "loss: 1.061520  [32000/60000]\n",
      "loss: 0.942204  [38400/60000]\n",
      "loss: 1.136636  [44800/60000]\n",
      "loss: 1.200375  [51200/60000]\n",
      "loss: 0.879187  [57600/60000]\n",
      "Test Error: \n",
      " Accuracy: 68.9%, Avg loss: 0.016333 \n",
      "\n",
      "Epoch 34\n",
      "-------------------------------\n",
      "loss: 1.201652  [    0/60000]\n",
      "loss: 1.257497  [ 6400/60000]\n",
      "loss: 1.092749  [12800/60000]\n",
      "loss: 0.980007  [19200/60000]\n",
      "loss: 0.968003  [25600/60000]\n",
      "loss: 1.060231  [32000/60000]\n",
      "loss: 0.938924  [38400/60000]\n",
      "loss: 1.134820  [44800/60000]\n",
      "loss: 1.199362  [51200/60000]\n",
      "loss: 0.875551  [57600/60000]\n",
      "Test Error: \n",
      " Accuracy: 69.0%, Avg loss: 0.016296 \n",
      "\n",
      "Epoch 35\n",
      "-------------------------------\n",
      "loss: 1.198104  [    0/60000]\n",
      "loss: 1.254640  [ 6400/60000]\n",
      "loss: 1.091902  [12800/60000]\n",
      "loss: 0.976493  [19200/60000]\n",
      "loss: 0.966064  [25600/60000]\n",
      "loss: 1.058985  [32000/60000]\n",
      "loss: 0.935802  [38400/60000]\n",
      "loss: 1.133277  [44800/60000]\n",
      "loss: 1.198329  [51200/60000]\n",
      "loss: 0.872048  [57600/60000]\n",
      "Test Error: \n",
      " Accuracy: 69.1%, Avg loss: 0.016261 \n",
      "\n",
      "Epoch 36\n",
      "-------------------------------\n",
      "loss: 1.194696  [    0/60000]\n",
      "loss: 1.251774  [ 6400/60000]\n",
      "loss: 1.090994  [12800/60000]\n",
      "loss: 0.973079  [19200/60000]\n",
      "loss: 0.964080  [25600/60000]\n",
      "loss: 1.058149  [32000/60000]\n",
      "loss: 0.932813  [38400/60000]\n",
      "loss: 1.131707  [44800/60000]\n",
      "loss: 1.197241  [51200/60000]\n",
      "loss: 0.868737  [57600/60000]\n",
      "Test Error: \n",
      " Accuracy: 69.2%, Avg loss: 0.016227 \n",
      "\n",
      "Epoch 37\n",
      "-------------------------------\n",
      "loss: 1.191120  [    0/60000]\n",
      "loss: 1.248962  [ 6400/60000]\n",
      "loss: 1.090130  [12800/60000]\n",
      "loss: 0.969759  [19200/60000]\n",
      "loss: 0.962169  [25600/60000]\n",
      "loss: 1.056881  [32000/60000]\n",
      "loss: 0.929986  [38400/60000]\n",
      "loss: 1.130365  [44800/60000]\n",
      "loss: 1.196084  [51200/60000]\n",
      "loss: 0.865534  [57600/60000]\n",
      "Test Error: \n",
      " Accuracy: 69.3%, Avg loss: 0.016195 \n",
      "\n",
      "Epoch 38\n",
      "-------------------------------\n",
      "loss: 1.187751  [    0/60000]\n",
      "loss: 1.246199  [ 6400/60000]\n",
      "loss: 1.089316  [12800/60000]\n",
      "loss: 0.966580  [19200/60000]\n",
      "loss: 0.960177  [25600/60000]\n",
      "loss: 1.055620  [32000/60000]\n",
      "loss: 0.927301  [38400/60000]\n",
      "loss: 1.129164  [44800/60000]\n",
      "loss: 1.195024  [51200/60000]\n",
      "loss: 0.862492  [57600/60000]\n",
      "Test Error: \n",
      " Accuracy: 69.3%, Avg loss: 0.016164 \n",
      "\n",
      "Epoch 39\n",
      "-------------------------------\n",
      "loss: 1.184478  [    0/60000]\n",
      "loss: 1.243474  [ 6400/60000]\n",
      "loss: 1.088823  [12800/60000]\n",
      "loss: 0.963390  [19200/60000]\n",
      "loss: 0.957774  [25600/60000]\n",
      "loss: 1.054403  [32000/60000]\n",
      "loss: 0.924708  [38400/60000]\n",
      "loss: 1.128029  [44800/60000]\n",
      "loss: 1.193865  [51200/60000]\n",
      "loss: 0.859382  [57600/60000]\n",
      "Test Error: \n",
      " Accuracy: 69.5%, Avg loss: 0.016134 \n",
      "\n",
      "Epoch 40\n",
      "-------------------------------\n",
      "loss: 1.181085  [    0/60000]\n",
      "loss: 1.240719  [ 6400/60000]\n",
      "loss: 1.088039  [12800/60000]\n",
      "loss: 0.960245  [19200/60000]\n",
      "loss: 0.955774  [25600/60000]\n",
      "loss: 1.053368  [32000/60000]\n",
      "loss: 0.922145  [38400/60000]\n",
      "loss: 1.126930  [44800/60000]\n",
      "loss: 1.192765  [51200/60000]\n",
      "loss: 0.856497  [57600/60000]\n",
      "Test Error: \n",
      " Accuracy: 69.5%, Avg loss: 0.016105 \n",
      "\n",
      "Epoch 41\n",
      "-------------------------------\n",
      "loss: 1.177660  [    0/60000]\n",
      "loss: 1.237839  [ 6400/60000]\n",
      "loss: 1.087201  [12800/60000]\n",
      "loss: 0.957260  [19200/60000]\n",
      "loss: 0.953900  [25600/60000]\n",
      "loss: 1.051658  [32000/60000]\n",
      "loss: 0.919665  [38400/60000]\n",
      "loss: 1.125808  [44800/60000]\n",
      "loss: 1.191269  [51200/60000]\n",
      "loss: 0.853474  [57600/60000]\n",
      "Test Error: \n",
      " Accuracy: 69.6%, Avg loss: 0.016078 \n",
      "\n",
      "Epoch 42\n",
      "-------------------------------\n",
      "loss: 1.174351  [    0/60000]\n",
      "loss: 1.235022  [ 6400/60000]\n",
      "loss: 1.086357  [12800/60000]\n",
      "loss: 0.954295  [19200/60000]\n",
      "loss: 0.951952  [25600/60000]\n",
      "loss: 1.049822  [32000/60000]\n",
      "loss: 0.917286  [38400/60000]\n",
      "loss: 1.124863  [44800/60000]\n",
      "loss: 1.189750  [51200/60000]\n",
      "loss: 0.850699  [57600/60000]\n",
      "Test Error: \n",
      " Accuracy: 69.8%, Avg loss: 0.016052 \n",
      "\n",
      "Epoch 43\n",
      "-------------------------------\n",
      "loss: 1.171101  [    0/60000]\n",
      "loss: 1.232267  [ 6400/60000]\n",
      "loss: 1.085704  [12800/60000]\n",
      "loss: 0.951412  [19200/60000]\n",
      "loss: 0.950325  [25600/60000]\n",
      "loss: 1.048594  [32000/60000]\n",
      "loss: 0.915019  [38400/60000]\n",
      "loss: 1.123892  [44800/60000]\n",
      "loss: 1.188198  [51200/60000]\n",
      "loss: 0.848036  [57600/60000]\n",
      "Test Error: \n",
      " Accuracy: 69.8%, Avg loss: 0.016026 \n",
      "\n",
      "Epoch 44\n",
      "-------------------------------\n",
      "loss: 1.168019  [    0/60000]\n",
      "loss: 1.229673  [ 6400/60000]\n",
      "loss: 1.085012  [12800/60000]\n",
      "loss: 0.948644  [19200/60000]\n",
      "loss: 0.948366  [25600/60000]\n",
      "loss: 1.047217  [32000/60000]\n",
      "loss: 0.912763  [38400/60000]\n",
      "loss: 1.123052  [44800/60000]\n",
      "loss: 1.186734  [51200/60000]\n",
      "loss: 0.845511  [57600/60000]\n",
      "Test Error: \n",
      " Accuracy: 69.9%, Avg loss: 0.016001 \n",
      "\n",
      "Epoch 45\n",
      "-------------------------------\n",
      "loss: 1.164976  [    0/60000]\n",
      "loss: 1.227010  [ 6400/60000]\n",
      "loss: 1.084342  [12800/60000]\n",
      "loss: 0.945997  [19200/60000]\n",
      "loss: 0.946412  [25600/60000]\n",
      "loss: 1.045792  [32000/60000]\n",
      "loss: 0.910691  [38400/60000]\n",
      "loss: 1.122254  [44800/60000]\n",
      "loss: 1.185194  [51200/60000]\n",
      "loss: 0.843078  [57600/60000]\n",
      "Test Error: \n",
      " Accuracy: 70.0%, Avg loss: 0.015977 \n",
      "\n",
      "Epoch 46\n",
      "-------------------------------\n",
      "loss: 1.162015  [    0/60000]\n",
      "loss: 1.224381  [ 6400/60000]\n",
      "loss: 1.083548  [12800/60000]\n",
      "loss: 0.943433  [19200/60000]\n",
      "loss: 0.944488  [25600/60000]\n",
      "loss: 1.043924  [32000/60000]\n",
      "loss: 0.908593  [38400/60000]\n",
      "loss: 1.121481  [44800/60000]\n",
      "loss: 1.183549  [51200/60000]\n",
      "loss: 0.840647  [57600/60000]\n",
      "Test Error: \n",
      " Accuracy: 70.1%, Avg loss: 0.015953 \n",
      "\n",
      "Epoch 47\n",
      "-------------------------------\n",
      "loss: 1.159117  [    0/60000]\n",
      "loss: 1.221783  [ 6400/60000]\n",
      "loss: 1.082814  [12800/60000]\n",
      "loss: 0.940932  [19200/60000]\n",
      "loss: 0.942527  [25600/60000]\n",
      "loss: 1.042610  [32000/60000]\n",
      "loss: 0.906591  [38400/60000]\n",
      "loss: 1.120311  [44800/60000]\n",
      "loss: 1.182046  [51200/60000]\n",
      "loss: 0.838360  [57600/60000]\n",
      "Test Error: \n",
      " Accuracy: 70.2%, Avg loss: 0.015930 \n",
      "\n",
      "Epoch 48\n",
      "-------------------------------\n",
      "loss: 1.156301  [    0/60000]\n",
      "loss: 1.219234  [ 6400/60000]\n",
      "loss: 1.082075  [12800/60000]\n",
      "loss: 0.938766  [19200/60000]\n",
      "loss: 0.940384  [25600/60000]\n",
      "loss: 1.040901  [32000/60000]\n",
      "loss: 0.904640  [38400/60000]\n",
      "loss: 1.119453  [44800/60000]\n",
      "loss: 1.180532  [51200/60000]\n",
      "loss: 0.836035  [57600/60000]\n",
      "Test Error: \n",
      " Accuracy: 70.2%, Avg loss: 0.015908 \n",
      "\n",
      "Epoch 49\n",
      "-------------------------------\n",
      "loss: 1.153481  [    0/60000]\n",
      "loss: 1.216788  [ 6400/60000]\n",
      "loss: 1.081315  [12800/60000]\n",
      "loss: 0.936516  [19200/60000]\n",
      "loss: 0.938505  [25600/60000]\n",
      "loss: 1.039307  [32000/60000]\n",
      "loss: 0.902724  [38400/60000]\n",
      "loss: 1.118631  [44800/60000]\n",
      "loss: 1.178935  [51200/60000]\n",
      "loss: 0.833900  [57600/60000]\n",
      "Test Error: \n",
      " Accuracy: 70.2%, Avg loss: 0.015887 \n",
      "\n",
      "Epoch 50\n",
      "-------------------------------\n",
      "loss: 1.150785  [    0/60000]\n",
      "loss: 1.214334  [ 6400/60000]\n",
      "loss: 1.080580  [12800/60000]\n",
      "loss: 0.934171  [19200/60000]\n",
      "loss: 0.936605  [25600/60000]\n",
      "loss: 1.037448  [32000/60000]\n",
      "loss: 0.900997  [38400/60000]\n",
      "loss: 1.117790  [44800/60000]\n",
      "loss: 1.177385  [51200/60000]\n",
      "loss: 0.831861  [57600/60000]\n",
      "Test Error: \n",
      " Accuracy: 70.3%, Avg loss: 0.015867 \n",
      "\n",
      "Done!\n"
     ]
    }
   ],
   "source": [
    "loss_fn = nn.CrossEntropyLoss()\n",
    "optimizer = torch.optim.SGD(model.parameters(), lr=learning_rate)\n",
    "\n",
    "epochs = 50\n",
    "for t in range(epochs):\n",
    "    print(f\"Epoch {t+1}\\n-------------------------------\")\n",
    "    train_loop(train_dataloader, model, loss_fn, optimizer)\n",
    "    test_loop(test_dataloader, model, loss_fn)\n",
    "print(\"Done!\")"
   ]
  },
  {
   "cell_type": "markdown",
   "id": "b2f30358",
   "metadata": {},
   "source": [
    "#### Saving Models\n",
    "\n",
    "When you are satisfied with the model's performance, you can use torch.save to save it. PyTorch models store the learned parameters in an internal state dictionary, called state_dict. These can be persisted wit the torch.save method:"
   ]
  },
  {
   "cell_type": "code",
   "execution_count": 84,
   "id": "54e6b054",
   "metadata": {},
   "outputs": [
    {
     "name": "stdout",
     "output_type": "stream",
     "text": [
      "Saved PyTorch Model State to model.pth\n"
     ]
    }
   ],
   "source": [
    "torch.save(model.state_dict(), \"data/model.pth\")\n",
    "\n",
    "print(\"Saved PyTorch Model State to model.pth\")"
   ]
  },
  {
   "cell_type": "markdown",
   "id": "c518ec4e",
   "metadata": {},
   "source": [
    "#### Load and run model predictions"
   ]
  },
  {
   "cell_type": "code",
   "execution_count": 85,
   "id": "a1495185",
   "metadata": {},
   "outputs": [],
   "source": [
    "%matplotlib inline\n",
    "import torch\n",
    "from torch import nn\n",
    "import torchvision.models as models\n",
    "from torchvision import datasets\n",
    "from torchvision.transforms import ToTensor"
   ]
  },
  {
   "cell_type": "markdown",
   "id": "a04d9bc4",
   "metadata": {},
   "source": [
    "To load the model, we will define the model class which contains the state and parameters of the neural network used to train the model."
   ]
  },
  {
   "cell_type": "code",
   "execution_count": 86,
   "id": "ad8a17a8",
   "metadata": {},
   "outputs": [],
   "source": [
    "class NeuralNetwork(nn.Module):\n",
    "    def __init__(self):\n",
    "        super(NeuralNetwork, self).__init__()\n",
    "        self.flatten = nn.Flatten()\n",
    "        self.linear_relu_stack = nn.Sequential(\n",
    "            nn.Linear(28*28, 512),\n",
    "            nn.ReLU(),\n",
    "            nn.Linear(512, 512),\n",
    "            nn.ReLU(),\n",
    "            nn.Linear(512, 10),\n",
    "            nn.ReLU()\n",
    "        )\n",
    "\n",
    "    def forward(self, x):\n",
    "        x = self.flatten(x)\n",
    "        logits = self.linear_relu_stack(x)\n",
    "        return logits"
   ]
  },
  {
   "cell_type": "markdown",
   "id": "5657a3f1",
   "metadata": {},
   "source": [
    "When loading model weights, we needed to instantiate the model class first, because the class defines the structure of a network. Next, we load the parameters using the load_state_dict() method."
   ]
  },
  {
   "cell_type": "code",
   "execution_count": 87,
   "id": "b9d66b35",
   "metadata": {},
   "outputs": [
    {
     "data": {
      "text/plain": [
       "NeuralNetwork(\n",
       "  (flatten): Flatten(start_dim=1, end_dim=-1)\n",
       "  (linear_relu_stack): Sequential(\n",
       "    (0): Linear(in_features=784, out_features=512, bias=True)\n",
       "    (1): ReLU()\n",
       "    (2): Linear(in_features=512, out_features=512, bias=True)\n",
       "    (3): ReLU()\n",
       "    (4): Linear(in_features=512, out_features=10, bias=True)\n",
       "    (5): ReLU()\n",
       "  )\n",
       ")"
      ]
     },
     "execution_count": 87,
     "metadata": {},
     "output_type": "execute_result"
    }
   ],
   "source": [
    "model = NeuralNetwork()\n",
    "model.load_state_dict(torch.load('data/model.pth'))\n",
    "model.eval()"
   ]
  },
  {
   "cell_type": "markdown",
   "id": "b32c1655",
   "metadata": {},
   "source": [
    "### The full model building process"
   ]
  },
  {
   "cell_type": "markdown",
   "id": "0e7b3982",
   "metadata": {},
   "source": [
    "#### Working with data\n",
    "\n",
    "PyTorch has two primitives to work with data: torch.utils.data.DataLoader and torch.utils.data.Dataset. Dataset stores the samples and their corresponding labels, and DataLoader wraps an iterable around the Dataset."
   ]
  },
  {
   "cell_type": "code",
   "execution_count": 88,
   "id": "19eae652",
   "metadata": {},
   "outputs": [],
   "source": [
    "%matplotlib inline\n",
    "import torch\n",
    "from torch import nn\n",
    "from torch.utils.data import DataLoader\n",
    "from torchvision import datasets\n",
    "from torchvision.transforms import ToTensor, Lambda, Compose\n",
    "import matplotlib.pyplot as plt"
   ]
  },
  {
   "cell_type": "code",
   "execution_count": 89,
   "id": "ae843819",
   "metadata": {},
   "outputs": [],
   "source": [
    "# Download training data from open datasets.\n",
    "training_data = datasets.FashionMNIST(\n",
    "    root=\"data\",\n",
    "    train=True,\n",
    "    download=True,\n",
    "    transform=ToTensor(),\n",
    ")\n",
    "\n",
    "# Download test data from open datasets.\n",
    "test_data = datasets.FashionMNIST(\n",
    "    root=\"data\",\n",
    "    train=False,\n",
    "    download=True,\n",
    "    transform=ToTensor(),\n",
    ")"
   ]
  },
  {
   "cell_type": "markdown",
   "id": "12f663bf",
   "metadata": {},
   "source": [
    "We pass the Dataset as an argument to DataLoader. This wraps an iterable over our dataset, and supports automatic batching, sampling, shuffling and multiprocess data loading. Here we define a batch size of 64, i.e. each element in the dataloader iterable will return a batch of 64 features and labels."
   ]
  },
  {
   "cell_type": "code",
   "execution_count": 90,
   "id": "76bbc28a",
   "metadata": {},
   "outputs": [
    {
     "name": "stdout",
     "output_type": "stream",
     "text": [
      "Shape of X [N, C, H, W]:  torch.Size([64, 1, 28, 28])\n",
      "Shape of y:  torch.Size([64]) torch.int64\n"
     ]
    },
    {
     "data": {
      "image/png": "[encoded data removed]",
      "text/plain": [
       "<Figure size 720x576 with 25 Axes>"
      ]
     },
     "metadata": {
      "needs_background": "light"
     },
     "output_type": "display_data"
    }
   ],
   "source": [
    "batch_size = 64\n",
    "\n",
    "# Create data loaders.\n",
    "train_dataloader = DataLoader(training_data, batch_size=batch_size)\n",
    "test_dataloader = DataLoader(test_data, batch_size=batch_size)\n",
    "\n",
    "for X, y in test_dataloader:\n",
    "    print(\"Shape of X [N, C, H, W]: \", X.shape)\n",
    "    print(\"Shape of y: \", y.shape, y.dtype)\n",
    "    break\n",
    "    \n",
    "# Display sample data\n",
    "figure = plt.figure(figsize=(10, 8))\n",
    "cols, rows = 5, 5\n",
    "for i in range(1, cols * rows + 1):\n",
    "    idx = torch.randint(len(test_data), size=(1,)).item()\n",
    "    img, label = test_data[idx]\n",
    "    figure.add_subplot(rows, cols, i)\n",
    "    plt.title(label)\n",
    "    plt.axis(\"off\")\n",
    "    plt.imshow(img.squeeze(), cmap=\"gray\")\n",
    "plt.show()"
   ]
  },
  {
   "cell_type": "markdown",
   "id": "b43441fd",
   "metadata": {},
   "source": [
    "#### Creating models\n",
    "To define a neural network in PyTorch, we create a class that inherits from nn.Module. We define the layers of the network in the __init__ function and specify how data will pass through the network in the forward function. To accelerate operations in the neural network, we move it to the GPU if available."
   ]
  },
  {
   "cell_type": "code",
   "execution_count": 91,
   "id": "040404a0",
   "metadata": {},
   "outputs": [
    {
     "name": "stdout",
     "output_type": "stream",
     "text": [
      "Using cpu device\n",
      "NeuralNetwork(\n",
      "  (flatten): Flatten(start_dim=1, end_dim=-1)\n",
      "  (linear_relu_stack): Sequential(\n",
      "    (0): Linear(in_features=784, out_features=512, bias=True)\n",
      "    (1): ReLU()\n",
      "    (2): Linear(in_features=512, out_features=512, bias=True)\n",
      "    (3): ReLU()\n",
      "    (4): Linear(in_features=512, out_features=10, bias=True)\n",
      "    (5): ReLU()\n",
      "  )\n",
      ")\n"
     ]
    }
   ],
   "source": [
    "# Get cpu or gpu device for training.\n",
    "device = \"cuda\" if torch.cuda.is_available() else \"cpu\"\n",
    "print(\"Using {} device\".format(device))\n",
    "\n",
    "# Define model\n",
    "class NeuralNetwork(nn.Module):\n",
    "    def __init__(self):\n",
    "        super(NeuralNetwork, self).__init__()\n",
    "        self.flatten = nn.Flatten()\n",
    "        self.linear_relu_stack = nn.Sequential(\n",
    "            nn.Linear(28*28, 512),\n",
    "            nn.ReLU(),\n",
    "            nn.Linear(512, 512),\n",
    "            nn.ReLU(),\n",
    "            nn.Linear(512, 10),\n",
    "            nn.ReLU()\n",
    "        )\n",
    "\n",
    "    def forward(self, x):\n",
    "        x = self.flatten(x)\n",
    "        logits = self.linear_relu_stack(x)\n",
    "        return logits\n",
    "\n",
    "model = NeuralNetwork().to(device)\n",
    "print(model)"
   ]
  },
  {
   "cell_type": "markdown",
   "id": "fc981831",
   "metadata": {},
   "source": [
    "#### Optimizing the Model Parameters\n",
    "To train a model, we need a loss function and an optimizer. We'll be using nn.CrossEntropyLoss for loss and Stochastic Gradient Descent for optimization."
   ]
  },
  {
   "cell_type": "code",
   "execution_count": 92,
   "id": "e9c815a3",
   "metadata": {},
   "outputs": [],
   "source": [
    "loss_fn = nn.CrossEntropyLoss()\n",
    "learning_rate = 1e-3\n",
    "optimizer = torch.optim.SGD(model.parameters(), lr=learning_rate)"
   ]
  },
  {
   "cell_type": "markdown",
   "id": "43e7f200",
   "metadata": {},
   "source": [
    "In a single training loop, the model makes predictions on the training dataset (fed to it in batches), and back-propagates the prediction error to adjust the model's parameters."
   ]
  },
  {
   "cell_type": "code",
   "execution_count": 93,
   "id": "804cac4b",
   "metadata": {},
   "outputs": [],
   "source": [
    "def train(dataloader, model, loss_fn, optimizer):\n",
    "    size = len(dataloader.dataset)\n",
    "    for batch, (X, y) in enumerate(dataloader):\n",
    "        X, y = X.to(device), y.to(device)\n",
    "        \n",
    "        # Compute prediction error\n",
    "        pred = model(X)\n",
    "        loss = loss_fn(pred, y)\n",
    "        \n",
    "        # Backpropagation\n",
    "        optimizer.zero_grad()\n",
    "        loss.backward()\n",
    "        optimizer.step()\n",
    "\n",
    "        if batch % 100 == 0:\n",
    "            loss, current = loss.item(), batch * len(X)\n",
    "            print(f\"loss: {loss:>7f}  [{current:>5d}/{size:>5d}]\")"
   ]
  },
  {
   "cell_type": "markdown",
   "id": "5f1d5d8c",
   "metadata": {},
   "source": [
    "We can also check the model's performance against the test dataset to ensure it is learning."
   ]
  },
  {
   "cell_type": "code",
   "execution_count": 94,
   "id": "74f78b07",
   "metadata": {},
   "outputs": [],
   "source": [
    "def test(dataloader, model):\n",
    "    size = len(dataloader.dataset)\n",
    "    model.eval()\n",
    "    test_loss, correct = 0, 0\n",
    "    with torch.no_grad():\n",
    "        for X, y in dataloader:\n",
    "            X, y = X.to(device), y.to(device)\n",
    "            pred = model(X)\n",
    "            test_loss += loss_fn(pred, y).item()\n",
    "            correct += (pred.argmax(1) == y).type(torch.float).sum().item()\n",
    "    test_loss /= size\n",
    "    correct /= size\n",
    "    print(f\"Test Error: \\n Accuracy: {(100*correct):>0.1f}%, Avg loss: {test_loss:>8f} \\n\")"
   ]
  },
  {
   "cell_type": "markdown",
   "id": "598b573f",
   "metadata": {},
   "source": [
    "The training process is conducted over several iterations (epochs). During each epoch, the model learns parameters to make better predictions. We print the model's accuracy and loss at each epoch; we'd like to see the accuracy increase and the loss decrease with every epoch."
   ]
  },
  {
   "cell_type": "code",
   "execution_count": 95,
   "id": "3c0b909f",
   "metadata": {},
   "outputs": [
    {
     "name": "stdout",
     "output_type": "stream",
     "text": [
      "Epoch 1\n",
      "-------------------------------\n",
      "loss: 2.301278  [    0/60000]\n",
      "loss: 2.297473  [ 6400/60000]\n",
      "loss: 2.293140  [12800/60000]\n",
      "loss: 2.298362  [19200/60000]\n",
      "loss: 2.278559  [25600/60000]\n",
      "loss: 2.256643  [32000/60000]\n",
      "loss: 2.268316  [38400/60000]\n",
      "loss: 2.243476  [44800/60000]\n",
      "loss: 2.250441  [51200/60000]\n",
      "loss: 2.221965  [57600/60000]\n",
      "Test Error: \n",
      " Accuracy: 37.1%, Avg loss: 0.035098 \n",
      "\n",
      "Epoch 2\n",
      "-------------------------------\n",
      "loss: 2.233614  [    0/60000]\n",
      "loss: 2.241545  [ 6400/60000]\n",
      "loss: 2.221869  [12800/60000]\n",
      "loss: 2.248045  [19200/60000]\n",
      "loss: 2.188078  [25600/60000]\n",
      "loss: 2.144605  [32000/60000]\n",
      "loss: 2.180475  [38400/60000]\n",
      "loss: 2.129984  [44800/60000]\n",
      "loss: 2.166994  [51200/60000]\n",
      "loss: 2.087362  [57600/60000]\n",
      "Test Error: \n",
      " Accuracy: 38.1%, Avg loss: 0.033318 \n",
      "\n",
      "Epoch 3\n",
      "-------------------------------\n",
      "loss: 2.134712  [    0/60000]\n",
      "loss: 2.130154  [ 6400/60000]\n",
      "loss: 2.097034  [12800/60000]\n",
      "loss: 2.146232  [19200/60000]\n",
      "loss: 2.021415  [25600/60000]\n",
      "loss: 1.971309  [32000/60000]\n",
      "loss: 2.031964  [38400/60000]\n",
      "loss: 1.955221  [44800/60000]\n",
      "loss: 2.050045  [51200/60000]\n",
      "loss: 1.884848  [57600/60000]\n",
      "Test Error: \n",
      " Accuracy: 39.2%, Avg loss: 0.030622 \n",
      "\n",
      "Epoch 4\n",
      "-------------------------------\n",
      "loss: 1.993314  [    0/60000]\n",
      "loss: 1.965555  [ 6400/60000]\n",
      "loss: 1.924105  [12800/60000]\n",
      "loss: 1.999568  [19200/60000]\n",
      "loss: 1.818603  [25600/60000]\n",
      "loss: 1.778161  [32000/60000]\n",
      "loss: 1.852425  [38400/60000]\n",
      "loss: 1.773145  [44800/60000]\n",
      "loss: 1.925189  [51200/60000]\n",
      "loss: 1.678241  [57600/60000]\n",
      "Test Error: \n",
      " Accuracy: 47.0%, Avg loss: 0.027916 \n",
      "\n",
      "Epoch 5\n",
      "-------------------------------\n",
      "loss: 1.854586  [    0/60000]\n",
      "loss: 1.807762  [ 6400/60000]\n",
      "loss: 1.766173  [12800/60000]\n",
      "loss: 1.851351  [19200/60000]\n",
      "loss: 1.667535  [25600/60000]\n",
      "loss: 1.627644  [32000/60000]\n",
      "loss: 1.696919  [38400/60000]\n",
      "loss: 1.631354  [44800/60000]\n",
      "loss: 1.816311  [51200/60000]\n",
      "loss: 1.515022  [57600/60000]\n",
      "Test Error: \n",
      " Accuracy: 49.1%, Avg loss: 0.025790 \n",
      "\n",
      "Epoch 6\n",
      "-------------------------------\n",
      "loss: 1.741071  [    0/60000]\n",
      "loss: 1.687227  [ 6400/60000]\n",
      "loss: 1.637702  [12800/60000]\n",
      "loss: 1.737430  [19200/60000]\n",
      "loss: 1.569461  [25600/60000]\n",
      "loss: 1.513992  [32000/60000]\n",
      "loss: 1.585864  [38400/60000]\n",
      "loss: 1.530000  [44800/60000]\n",
      "loss: 1.734452  [51200/60000]\n",
      "loss: 1.403562  [57600/60000]\n",
      "Test Error: \n",
      " Accuracy: 50.0%, Avg loss: 0.024273 \n",
      "\n",
      "Epoch 7\n",
      "-------------------------------\n",
      "loss: 1.654444  [    0/60000]\n",
      "loss: 1.601897  [ 6400/60000]\n",
      "loss: 1.539135  [12800/60000]\n",
      "loss: 1.656704  [19200/60000]\n",
      "loss: 1.504299  [25600/60000]\n",
      "loss: 1.430092  [32000/60000]\n",
      "loss: 1.509709  [38400/60000]\n",
      "loss: 1.458123  [44800/60000]\n",
      "loss: 1.671177  [51200/60000]\n",
      "loss: 1.330785  [57600/60000]\n",
      "Test Error: \n",
      " Accuracy: 50.5%, Avg loss: 0.023212 \n",
      "\n",
      "Epoch 8\n",
      "-------------------------------\n",
      "loss: 1.589269  [    0/60000]\n",
      "loss: 1.542819  [ 6400/60000]\n",
      "loss: 1.466744  [12800/60000]\n",
      "loss: 1.601028  [19200/60000]\n",
      "loss: 1.459869  [25600/60000]\n",
      "loss: 1.369430  [32000/60000]\n",
      "loss: 1.458552  [38400/60000]\n",
      "loss: 1.409498  [44800/60000]\n",
      "loss: 1.623574  [51200/60000]\n",
      "loss: 1.280556  [57600/60000]\n",
      "Test Error: \n",
      " Accuracy: 51.0%, Avg loss: 0.022468 \n",
      "\n",
      "Epoch 9\n",
      "-------------------------------\n",
      "loss: 1.540450  [    0/60000]\n",
      "loss: 1.502836  [ 6400/60000]\n",
      "loss: 1.412522  [12800/60000]\n",
      "loss: 1.561886  [19200/60000]\n",
      "loss: 1.426147  [25600/60000]\n",
      "loss: 1.324508  [32000/60000]\n",
      "loss: 1.422546  [38400/60000]\n",
      "loss: 1.376955  [44800/60000]\n",
      "loss: 1.585576  [51200/60000]\n",
      "loss: 1.243567  [57600/60000]\n",
      "Test Error: \n",
      " Accuracy: 51.3%, Avg loss: 0.021918 \n",
      "\n",
      "Epoch 10\n",
      "-------------------------------\n",
      "loss: 1.501486  [    0/60000]\n",
      "loss: 1.473480  [ 6400/60000]\n",
      "loss: 1.370875  [12800/60000]\n",
      "loss: 1.532736  [19200/60000]\n",
      "loss: 1.399396  [25600/60000]\n",
      "loss: 1.290410  [32000/60000]\n",
      "loss: 1.395887  [38400/60000]\n",
      "loss: 1.352555  [44800/60000]\n",
      "loss: 1.555296  [51200/60000]\n",
      "loss: 1.215836  [57600/60000]\n",
      "Test Error: \n",
      " Accuracy: 51.6%, Avg loss: 0.021494 \n",
      "\n",
      "Epoch 11\n",
      "-------------------------------\n",
      "loss: 1.469648  [    0/60000]\n",
      "loss: 1.450400  [ 6400/60000]\n",
      "loss: 1.337527  [12800/60000]\n",
      "loss: 1.509813  [19200/60000]\n",
      "loss: 1.377630  [25600/60000]\n",
      "loss: 1.264154  [32000/60000]\n",
      "loss: 1.374783  [38400/60000]\n",
      "loss: 1.335309  [44800/60000]\n",
      "loss: 1.531113  [51200/60000]\n",
      "loss: 1.193689  [57600/60000]\n",
      "Test Error: \n",
      " Accuracy: 51.9%, Avg loss: 0.021157 \n",
      "\n",
      "Epoch 12\n",
      "-------------------------------\n",
      "loss: 1.443032  [    0/60000]\n",
      "loss: 1.431542  [ 6400/60000]\n",
      "loss: 1.309980  [12800/60000]\n",
      "loss: 1.491469  [19200/60000]\n",
      "loss: 1.359226  [25600/60000]\n",
      "loss: 1.243178  [32000/60000]\n",
      "loss: 1.357138  [38400/60000]\n",
      "loss: 1.322633  [44800/60000]\n",
      "loss: 1.511536  [51200/60000]\n",
      "loss: 1.175750  [57600/60000]\n",
      "Test Error: \n",
      " Accuracy: 52.2%, Avg loss: 0.020879 \n",
      "\n",
      "Epoch 13\n",
      "-------------------------------\n",
      "loss: 1.420807  [    0/60000]\n",
      "loss: 1.415442  [ 6400/60000]\n",
      "loss: 1.286847  [12800/60000]\n",
      "loss: 1.476390  [19200/60000]\n",
      "loss: 1.343505  [25600/60000]\n",
      "loss: 1.226254  [32000/60000]\n",
      "loss: 1.342091  [38400/60000]\n",
      "loss: 1.313530  [44800/60000]\n",
      "loss: 1.496002  [51200/60000]\n",
      "loss: 1.160646  [57600/60000]\n",
      "Test Error: \n",
      " Accuracy: 52.5%, Avg loss: 0.020645 \n",
      "\n",
      "Epoch 14\n",
      "-------------------------------\n",
      "loss: 1.401619  [    0/60000]\n",
      "loss: 1.401501  [ 6400/60000]\n",
      "loss: 1.268010  [12800/60000]\n",
      "loss: 1.463562  [19200/60000]\n",
      "loss: 1.329967  [25600/60000]\n",
      "loss: 1.212125  [32000/60000]\n",
      "loss: 1.329008  [38400/60000]\n",
      "loss: 1.306245  [44800/60000]\n",
      "loss: 1.482893  [51200/60000]\n",
      "loss: 1.147681  [57600/60000]\n",
      "Test Error: \n",
      " Accuracy: 52.7%, Avg loss: 0.020443 \n",
      "\n",
      "Epoch 15\n",
      "-------------------------------\n",
      "loss: 1.384345  [    0/60000]\n",
      "loss: 1.388903  [ 6400/60000]\n",
      "loss: 1.252437  [12800/60000]\n",
      "loss: 1.452185  [19200/60000]\n",
      "loss: 1.318770  [25600/60000]\n",
      "loss: 1.200203  [32000/60000]\n",
      "loss: 1.317110  [38400/60000]\n",
      "loss: 1.299865  [44800/60000]\n",
      "loss: 1.471595  [51200/60000]\n",
      "loss: 1.136385  [57600/60000]\n",
      "Test Error: \n",
      " Accuracy: 53.0%, Avg loss: 0.020264 \n",
      "\n",
      "Done!\n"
     ]
    }
   ],
   "source": [
    "epochs = 15\n",
    "for t in range(epochs):\n",
    "    print(f\"Epoch {t+1}\\n-------------------------------\")\n",
    "    train(train_dataloader, model, loss_fn, optimizer)\n",
    "    test(test_dataloader, model)\n",
    "print(\"Done!\")"
   ]
  },
  {
   "cell_type": "code",
   "execution_count": 96,
   "id": "e7a3f1b8",
   "metadata": {},
   "outputs": [
    {
     "name": "stdout",
     "output_type": "stream",
     "text": [
      "Saved PyTorch Model State to model.pth\n"
     ]
    }
   ],
   "source": [
    "torch.save(model.state_dict(), \"data/model.pth\")\n",
    "print(\"Saved PyTorch Model State to model.pth\")"
   ]
  },
  {
   "cell_type": "code",
   "execution_count": 97,
   "id": "c47ae367",
   "metadata": {},
   "outputs": [
    {
     "data": {
      "text/plain": [
       "<All keys matched successfully>"
      ]
     },
     "execution_count": 97,
     "metadata": {},
     "output_type": "execute_result"
    }
   ],
   "source": [
    "model = NeuralNetwork()\n",
    "model.load_state_dict(torch.load(\"data/model.pth\"))"
   ]
  },
  {
   "cell_type": "code",
   "execution_count": 98,
   "id": "2b4aebd5",
   "metadata": {},
   "outputs": [
    {
     "name": "stdout",
     "output_type": "stream",
     "text": [
      "Predicted: \"Ankle boot\", Actual: \"Ankle boot\"\n"
     ]
    }
   ],
   "source": [
    "classes = [\n",
    "    \"T-shirt/top\",\n",
    "    \"Trouser\",\n",
    "    \"Pullover\",\n",
    "    \"Dress\",\n",
    "    \"Coat\",\n",
    "    \"Sandal\",\n",
    "    \"Shirt\",\n",
    "    \"Sneaker\",\n",
    "    \"Bag\",\n",
    "    \"Ankle boot\",\n",
    "]\n",
    "\n",
    "model.eval()\n",
    "x, y = test_data[0][0], test_data[0][1]\n",
    "with torch.no_grad():\n",
    "    pred = model(x)\n",
    "    predicted, actual = classes[pred[0].argmax(0)], classes[y]\n",
    "    print(f'Predicted: \"{predicted}\", Actual: \"{actual}\"')"
   ]
  }
 ],
 "metadata": {
  "kernelspec": {
   "display_name": "Python 3 (ipykernel)",
   "language": "python",
   "name": "python3"
  },
  "language_info": {
   "codemirror_mode": {
    "name": "ipython",
    "version": 3
   },
   "file_extension": ".py",
   "mimetype": "text/x-python",
   "name": "python",
   "nbconvert_exporter": "python",
   "pygments_lexer": "ipython3",
   "version": "3.9.12"
  }
 },
 "nbformat": 4,
 "nbformat_minor": 5
}
